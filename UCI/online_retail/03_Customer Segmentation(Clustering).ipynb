{
 "cells": [
  {
   "cell_type": "markdown",
   "id": "46f60d2c",
   "metadata": {},
   "source": [
    "<a href='https://github.com/SeWonKwon' ><div> <img src ='https://slid-capture.s3.ap-northeast-2.amazonaws.com/public/image_upload/6556674324ed41a289a354258718280d/964e5a8b-75ad-41fc-ae75-0ca66d06fbc7.png' align='left' /> </div></a>\n"
   ]
  },
  {
   "cell_type": "markdown",
   "id": "a63f576e",
   "metadata": {},
   "source": [
    "# Task "
   ]
  },
  {
   "cell_type": "markdown",
   "id": "37af06c5",
   "metadata": {},
   "source": [
    "**Customer Segmentation** with RFM"
   ]
  },
  {
   "cell_type": "markdown",
   "id": "20a57cc0",
   "metadata": {},
   "source": [
    "* Recency : 가장 최근 상품 구입 일에서 오늘까지의 기간\n",
    "* Frequency : 상품 구매 횟수\n",
    "* Monetary Value : 총 구매 금액"
   ]
  },
  {
   "cell_type": "markdown",
   "id": "f7684dcd",
   "metadata": {},
   "source": [
    "# Source "
   ]
  },
  {
   "cell_type": "markdown",
   "id": "cfeab636",
   "metadata": {},
   "source": [
    "source : https://github.com/SeWonKwon/ML_training/tree/main/UCI/online_retail\n",
    "\n",
    "download : https://github.com/SeWonKwon/ML_training/blob/main/UCI/online_retail/data/online_retail.xlsx?raw=true"
   ]
  },
  {
   "cell_type": "markdown",
   "id": "ce339322",
   "metadata": {},
   "source": [
    "# Load_data  & import"
   ]
  },
  {
   "cell_type": "code",
   "execution_count": 1,
   "id": "f2f3f3ad",
   "metadata": {
    "ExecuteTime": {
     "end_time": "2021-09-08T21:08:40.746203Z",
     "start_time": "2021-09-08T21:08:04.181311Z"
    }
   },
   "outputs": [],
   "source": [
    "import pandas as pd\n",
    "\n",
    "retail_df = pd.read_excel(io='https://github.com/SeWonKwon/ML_training/blob/main/UCI/online_retail/data/online_retail.xlsx?raw=true')"
   ]
  },
  {
   "cell_type": "code",
   "execution_count": 2,
   "id": "b83dad9c",
   "metadata": {
    "ExecuteTime": {
     "end_time": "2021-09-08T21:08:41.064342Z",
     "start_time": "2021-09-08T21:08:40.747204Z"
    }
   },
   "outputs": [],
   "source": [
    "import datetime\n",
    "import math\n",
    "import numpy as np\n",
    "import matplotlib.pyplot as plt\n",
    "%matplotlib inline\n"
   ]
  },
  {
   "cell_type": "code",
   "execution_count": 3,
   "id": "6592815b",
   "metadata": {
    "ExecuteTime": {
     "end_time": "2021-09-08T21:08:41.079355Z",
     "start_time": "2021-09-08T21:08:41.065342Z"
    }
   },
   "outputs": [],
   "source": [
    "df= retail_df.copy()"
   ]
  },
  {
   "cell_type": "code",
   "execution_count": 4,
   "id": "36d4bdfb",
   "metadata": {
    "ExecuteTime": {
     "end_time": "2021-09-08T21:08:41.094370Z",
     "start_time": "2021-09-08T21:08:41.080355Z"
    }
   },
   "outputs": [
    {
     "data": {
      "text/html": [
       "<div>\n",
       "<style scoped>\n",
       "    .dataframe tbody tr th:only-of-type {\n",
       "        vertical-align: middle;\n",
       "    }\n",
       "\n",
       "    .dataframe tbody tr th {\n",
       "        vertical-align: top;\n",
       "    }\n",
       "\n",
       "    .dataframe thead th {\n",
       "        text-align: right;\n",
       "    }\n",
       "</style>\n",
       "<table border=\"1\" class=\"dataframe\">\n",
       "  <thead>\n",
       "    <tr style=\"text-align: right;\">\n",
       "      <th></th>\n",
       "      <th>InvoiceNo</th>\n",
       "      <th>StockCode</th>\n",
       "      <th>Description</th>\n",
       "      <th>Quantity</th>\n",
       "      <th>InvoiceDate</th>\n",
       "      <th>UnitPrice</th>\n",
       "      <th>CustomerID</th>\n",
       "      <th>Country</th>\n",
       "    </tr>\n",
       "  </thead>\n",
       "  <tbody>\n",
       "    <tr>\n",
       "      <th>0</th>\n",
       "      <td>536365</td>\n",
       "      <td>85123A</td>\n",
       "      <td>WHITE HANGING HEART T-LIGHT HOLDER</td>\n",
       "      <td>6</td>\n",
       "      <td>2010-12-01 08:26:00</td>\n",
       "      <td>2.55</td>\n",
       "      <td>17850.0</td>\n",
       "      <td>United Kingdom</td>\n",
       "    </tr>\n",
       "    <tr>\n",
       "      <th>1</th>\n",
       "      <td>536365</td>\n",
       "      <td>71053</td>\n",
       "      <td>WHITE METAL LANTERN</td>\n",
       "      <td>6</td>\n",
       "      <td>2010-12-01 08:26:00</td>\n",
       "      <td>3.39</td>\n",
       "      <td>17850.0</td>\n",
       "      <td>United Kingdom</td>\n",
       "    </tr>\n",
       "  </tbody>\n",
       "</table>\n",
       "</div>"
      ],
      "text/plain": [
       "  InvoiceNo StockCode                         Description  Quantity  \\\n",
       "0    536365    85123A  WHITE HANGING HEART T-LIGHT HOLDER         6   \n",
       "1    536365     71053                 WHITE METAL LANTERN         6   \n",
       "\n",
       "          InvoiceDate  UnitPrice  CustomerID         Country  \n",
       "0 2010-12-01 08:26:00       2.55     17850.0  United Kingdom  \n",
       "1 2010-12-01 08:26:00       3.39     17850.0  United Kingdom  "
      ]
     },
     "execution_count": 4,
     "metadata": {},
     "output_type": "execute_result"
    }
   ],
   "source": [
    "df.head(2)"
   ]
  },
  {
   "cell_type": "markdown",
   "id": "7a950625",
   "metadata": {},
   "source": [
    "# Preprocessing1"
   ]
  },
  {
   "cell_type": "markdown",
   "id": "9bd00728",
   "metadata": {},
   "source": [
    "## Null handling"
   ]
  },
  {
   "cell_type": "code",
   "execution_count": 5,
   "id": "f950f748",
   "metadata": {
    "ExecuteTime": {
     "end_time": "2021-09-08T21:08:41.154424Z",
     "start_time": "2021-09-08T21:08:41.095371Z"
    }
   },
   "outputs": [
    {
     "data": {
      "text/plain": [
       "InvoiceNo           0\n",
       "StockCode           0\n",
       "Description      1454\n",
       "Quantity            0\n",
       "InvoiceDate         0\n",
       "UnitPrice           0\n",
       "CustomerID     135080\n",
       "Country             0\n",
       "dtype: int64"
      ]
     },
     "execution_count": 5,
     "metadata": {},
     "output_type": "execute_result"
    }
   ],
   "source": [
    "df.isnull().sum()"
   ]
  },
  {
   "cell_type": "markdown",
   "id": "c5b50fd4",
   "metadata": {},
   "source": [
    "* 고객 세그멘 테이션을 하는 것이기 때문에 커스터머 아이디가 없는 사람들은 의미가 없다. \n",
    "\n",
    "* 하지만, 커스터머 아이디가 없는 사람, 즉, 비회원으로 구매한사람, 들만을 가지고 클러스터링 한다면 또 다른 의미가 있거나 의미를 찾아 낼수 있다. \n",
    "\n",
    "이번 Task에서는 CustomerID가 없는 사람은 제거 하기로 한다. "
   ]
  },
  {
   "cell_type": "code",
   "execution_count": 6,
   "id": "fe9901f7",
   "metadata": {
    "ExecuteTime": {
     "end_time": "2021-09-08T21:08:41.184459Z",
     "start_time": "2021-09-08T21:08:41.155442Z"
    }
   },
   "outputs": [
    {
     "data": {
      "text/plain": [
       "0"
      ]
     },
     "execution_count": 6,
     "metadata": {},
     "output_type": "execute_result"
    }
   ],
   "source": [
    "df[df['Description'].isnull()]['CustomerID'].notnull().sum()"
   ]
  },
  {
   "cell_type": "markdown",
   "id": "ce009959",
   "metadata": {},
   "source": [
    "Description의 널값은 모두 CustomerID가 없는 값에 포함되므로 CustomerID가 없는 사람을 지우면 위의 모든 널값은 아래와 같이 없어진다."
   ]
  },
  {
   "cell_type": "code",
   "execution_count": 7,
   "id": "8a244801",
   "metadata": {
    "ExecuteTime": {
     "end_time": "2021-09-08T21:08:41.214491Z",
     "start_time": "2021-09-08T21:08:41.185461Z"
    }
   },
   "outputs": [],
   "source": [
    "df = df[df['CustomerID'].notnull()]"
   ]
  },
  {
   "cell_type": "code",
   "execution_count": 8,
   "id": "24c4ec17",
   "metadata": {
    "ExecuteTime": {
     "end_time": "2021-09-08T21:08:41.260067Z",
     "start_time": "2021-09-08T21:08:41.215494Z"
    }
   },
   "outputs": [
    {
     "data": {
      "text/plain": [
       "InvoiceNo      0\n",
       "StockCode      0\n",
       "Description    0\n",
       "Quantity       0\n",
       "InvoiceDate    0\n",
       "UnitPrice      0\n",
       "CustomerID     0\n",
       "Country        0\n",
       "dtype: int64"
      ]
     },
     "execution_count": 8,
     "metadata": {},
     "output_type": "execute_result"
    }
   ],
   "source": [
    "df.isnull().sum()"
   ]
  },
  {
   "cell_type": "code",
   "execution_count": 9,
   "id": "a7123903",
   "metadata": {
    "ExecuteTime": {
     "end_time": "2021-09-08T21:08:41.275079Z",
     "start_time": "2021-09-08T21:08:41.261068Z"
    }
   },
   "outputs": [
    {
     "data": {
      "text/plain": [
       "(406829, 8)"
      ]
     },
     "execution_count": 9,
     "metadata": {},
     "output_type": "execute_result"
    }
   ],
   "source": [
    "df.shape"
   ]
  },
  {
   "cell_type": "markdown",
   "id": "5e7e0f73",
   "metadata": {},
   "source": [
    "그다음으로 지워야 할 주문 건수는 주문 한 후에 취소한 것. 즉 주문과 취소주문(1쌍).\n",
    "\n",
    "공룡책에서는 취소주문만 지웠는데 오류라고 생각한다. \n"
   ]
  },
  {
   "cell_type": "code",
   "execution_count": 10,
   "id": "b8e0da9b",
   "metadata": {
    "ExecuteTime": {
     "end_time": "2021-09-08T21:08:41.305109Z",
     "start_time": "2021-09-08T21:08:41.276082Z"
    },
    "scrolled": true
   },
   "outputs": [
    {
     "name": "stdout",
     "output_type": "stream",
     "text": [
      "(8905, 8)\n"
     ]
    },
    {
     "data": {
      "text/html": [
       "<div>\n",
       "<style scoped>\n",
       "    .dataframe tbody tr th:only-of-type {\n",
       "        vertical-align: middle;\n",
       "    }\n",
       "\n",
       "    .dataframe tbody tr th {\n",
       "        vertical-align: top;\n",
       "    }\n",
       "\n",
       "    .dataframe thead th {\n",
       "        text-align: right;\n",
       "    }\n",
       "</style>\n",
       "<table border=\"1\" class=\"dataframe\">\n",
       "  <thead>\n",
       "    <tr style=\"text-align: right;\">\n",
       "      <th></th>\n",
       "      <th>InvoiceNo</th>\n",
       "      <th>StockCode</th>\n",
       "      <th>Description</th>\n",
       "      <th>Quantity</th>\n",
       "      <th>InvoiceDate</th>\n",
       "      <th>UnitPrice</th>\n",
       "      <th>CustomerID</th>\n",
       "      <th>Country</th>\n",
       "    </tr>\n",
       "  </thead>\n",
       "  <tbody>\n",
       "    <tr>\n",
       "      <th>141</th>\n",
       "      <td>C536379</td>\n",
       "      <td>D</td>\n",
       "      <td>Discount</td>\n",
       "      <td>-1</td>\n",
       "      <td>2010-12-01 09:41:00</td>\n",
       "      <td>27.50</td>\n",
       "      <td>14527.0</td>\n",
       "      <td>United Kingdom</td>\n",
       "    </tr>\n",
       "    <tr>\n",
       "      <th>154</th>\n",
       "      <td>C536383</td>\n",
       "      <td>35004C</td>\n",
       "      <td>SET OF 3 COLOURED  FLYING DUCKS</td>\n",
       "      <td>-1</td>\n",
       "      <td>2010-12-01 09:49:00</td>\n",
       "      <td>4.65</td>\n",
       "      <td>15311.0</td>\n",
       "      <td>United Kingdom</td>\n",
       "    </tr>\n",
       "    <tr>\n",
       "      <th>235</th>\n",
       "      <td>C536391</td>\n",
       "      <td>22556</td>\n",
       "      <td>PLASTERS IN TIN CIRCUS PARADE</td>\n",
       "      <td>-12</td>\n",
       "      <td>2010-12-01 10:24:00</td>\n",
       "      <td>1.65</td>\n",
       "      <td>17548.0</td>\n",
       "      <td>United Kingdom</td>\n",
       "    </tr>\n",
       "  </tbody>\n",
       "</table>\n",
       "</div>"
      ],
      "text/plain": [
       "    InvoiceNo StockCode                      Description  Quantity  \\\n",
       "141   C536379         D                         Discount        -1   \n",
       "154   C536383    35004C  SET OF 3 COLOURED  FLYING DUCKS        -1   \n",
       "235   C536391     22556   PLASTERS IN TIN CIRCUS PARADE        -12   \n",
       "\n",
       "            InvoiceDate  UnitPrice  CustomerID         Country  \n",
       "141 2010-12-01 09:41:00      27.50     14527.0  United Kingdom  \n",
       "154 2010-12-01 09:49:00       4.65     15311.0  United Kingdom  \n",
       "235 2010-12-01 10:24:00       1.65     17548.0  United Kingdom  "
      ]
     },
     "execution_count": 10,
     "metadata": {},
     "output_type": "execute_result"
    }
   ],
   "source": [
    "print(df[df['Quantity']<0 ].shape)\n",
    "df[df['Quantity']<0 ].head(3)"
   ]
  },
  {
   "cell_type": "code",
   "execution_count": 11,
   "id": "531211c8",
   "metadata": {
    "ExecuteTime": {
     "end_time": "2021-09-08T21:08:41.320122Z",
     "start_time": "2021-09-08T21:08:41.306110Z"
    }
   },
   "outputs": [],
   "source": [
    "df2= df.copy()\n"
   ]
  },
  {
   "cell_type": "code",
   "execution_count": 12,
   "id": "24d05028",
   "metadata": {
    "ExecuteTime": {
     "end_time": "2021-09-08T21:08:41.335135Z",
     "start_time": "2021-09-08T21:08:41.321121Z"
    }
   },
   "outputs": [
    {
     "data": {
      "text/html": [
       "<div>\n",
       "<style scoped>\n",
       "    .dataframe tbody tr th:only-of-type {\n",
       "        vertical-align: middle;\n",
       "    }\n",
       "\n",
       "    .dataframe tbody tr th {\n",
       "        vertical-align: top;\n",
       "    }\n",
       "\n",
       "    .dataframe thead th {\n",
       "        text-align: right;\n",
       "    }\n",
       "</style>\n",
       "<table border=\"1\" class=\"dataframe\">\n",
       "  <thead>\n",
       "    <tr style=\"text-align: right;\">\n",
       "      <th></th>\n",
       "      <th>InvoiceNo</th>\n",
       "      <th>StockCode</th>\n",
       "      <th>Description</th>\n",
       "      <th>Quantity</th>\n",
       "      <th>InvoiceDate</th>\n",
       "      <th>UnitPrice</th>\n",
       "      <th>CustomerID</th>\n",
       "      <th>Country</th>\n",
       "    </tr>\n",
       "  </thead>\n",
       "  <tbody>\n",
       "    <tr>\n",
       "      <th>0</th>\n",
       "      <td>536365</td>\n",
       "      <td>85123A</td>\n",
       "      <td>WHITE HANGING HEART T-LIGHT HOLDER</td>\n",
       "      <td>6</td>\n",
       "      <td>2010-12-01 08:26:00</td>\n",
       "      <td>2.55</td>\n",
       "      <td>17850.0</td>\n",
       "      <td>United Kingdom</td>\n",
       "    </tr>\n",
       "    <tr>\n",
       "      <th>1</th>\n",
       "      <td>536365</td>\n",
       "      <td>71053</td>\n",
       "      <td>WHITE METAL LANTERN</td>\n",
       "      <td>6</td>\n",
       "      <td>2010-12-01 08:26:00</td>\n",
       "      <td>3.39</td>\n",
       "      <td>17850.0</td>\n",
       "      <td>United Kingdom</td>\n",
       "    </tr>\n",
       "    <tr>\n",
       "      <th>2</th>\n",
       "      <td>536365</td>\n",
       "      <td>84406B</td>\n",
       "      <td>CREAM CUPID HEARTS COAT HANGER</td>\n",
       "      <td>8</td>\n",
       "      <td>2010-12-01 08:26:00</td>\n",
       "      <td>2.75</td>\n",
       "      <td>17850.0</td>\n",
       "      <td>United Kingdom</td>\n",
       "    </tr>\n",
       "  </tbody>\n",
       "</table>\n",
       "</div>"
      ],
      "text/plain": [
       "  InvoiceNo StockCode                         Description  Quantity  \\\n",
       "0    536365    85123A  WHITE HANGING HEART T-LIGHT HOLDER         6   \n",
       "1    536365     71053                 WHITE METAL LANTERN         6   \n",
       "2    536365    84406B      CREAM CUPID HEARTS COAT HANGER         8   \n",
       "\n",
       "          InvoiceDate  UnitPrice  CustomerID         Country  \n",
       "0 2010-12-01 08:26:00       2.55     17850.0  United Kingdom  \n",
       "1 2010-12-01 08:26:00       3.39     17850.0  United Kingdom  \n",
       "2 2010-12-01 08:26:00       2.75     17850.0  United Kingdom  "
      ]
     },
     "execution_count": 12,
     "metadata": {},
     "output_type": "execute_result"
    }
   ],
   "source": [
    "df2.head(3)"
   ]
  },
  {
   "cell_type": "markdown",
   "id": "846ee2c9",
   "metadata": {
    "ExecuteTime": {
     "end_time": "2021-09-08T15:31:21.295387Z",
     "start_time": "2021-09-08T15:31:21.238260Z"
    },
    "scrolled": false
   },
   "source": [
    "for i,v in df2.iterrows():\n",
    "    if v['Quantity']<=0:\n",
    "        a,b,c = v[['Quantity','UnitPrice','CustomerID']]\n",
    "        print(a,b,c)\n"
   ]
  },
  {
   "cell_type": "code",
   "execution_count": 13,
   "id": "d30df9c1",
   "metadata": {
    "ExecuteTime": {
     "end_time": "2021-09-08T21:11:25.929073Z",
     "start_time": "2021-09-08T21:08:41.336135Z"
    },
    "scrolled": false
   },
   "outputs": [],
   "source": [
    "df2['InvoiceNo'] = df2['InvoiceNo'].apply(lambda x : int(str(x).replace('C','')))\n",
    "del_index_list=[]\n",
    "for i,v in df2.iterrows():\n",
    "    if v['Quantity']<=0:\n",
    "        a,b,c,d,e = v[['Quantity','UnitPrice','CustomerID','StockCode','InvoiceNo']]\n",
    "#         print(a,b,c)\n",
    "        con1=df2['Quantity']==abs(a)\n",
    "        con2=df2['UnitPrice']==b\n",
    "        con3=df2['CustomerID']==c\n",
    "        con4=df2['StockCode']==d\n",
    "        con5=df2['InvoiceNo']<e\n",
    "        del_index_list += [i]\n",
    "        if df2[con1&con2&con3&con4&con5].shape[0]>=1:\n",
    "#             print(i,v)\n",
    "#             print(df2[con1&con2&con3&con4&con5].index)\n",
    "            del_index_list += df2[con1&con2&con3&con4&con5].index.tolist()\n",
    "            "
   ]
  },
  {
   "cell_type": "code",
   "execution_count": 14,
   "id": "e9fc758a",
   "metadata": {
    "ExecuteTime": {
     "end_time": "2021-09-08T21:11:25.944090Z",
     "start_time": "2021-09-08T21:11:25.930076Z"
    }
   },
   "outputs": [
    {
     "data": {
      "text/plain": [
       "12954"
      ]
     },
     "execution_count": 14,
     "metadata": {},
     "output_type": "execute_result"
    }
   ],
   "source": [
    "len(del_index_list)"
   ]
  },
  {
   "cell_type": "code",
   "execution_count": 15,
   "id": "20165895",
   "metadata": {
    "ExecuteTime": {
     "end_time": "2021-09-08T21:11:25.959195Z",
     "start_time": "2021-09-08T21:11:25.945091Z"
    }
   },
   "outputs": [],
   "source": [
    "del_index_list= sorted(list(set(del_index_list)))"
   ]
  },
  {
   "cell_type": "code",
   "execution_count": 16,
   "id": "30119766",
   "metadata": {
    "ExecuteTime": {
     "end_time": "2021-09-08T21:11:25.974212Z",
     "start_time": "2021-09-08T21:11:25.960198Z"
    }
   },
   "outputs": [
    {
     "data": {
      "text/plain": [
       "12787"
      ]
     },
     "execution_count": 16,
     "metadata": {},
     "output_type": "execute_result"
    }
   ],
   "source": [
    "len(del_index_list)"
   ]
  },
  {
   "cell_type": "code",
   "execution_count": 17,
   "id": "1014b5e7",
   "metadata": {
    "ExecuteTime": {
     "end_time": "2021-09-08T21:11:25.989225Z",
     "start_time": "2021-09-08T21:11:25.975212Z"
    },
    "scrolled": true
   },
   "outputs": [
    {
     "data": {
      "text/plain": [
       "[8, 47, 55, 57, 72, 74, 84, 141, 154, 235]"
      ]
     },
     "execution_count": 17,
     "metadata": {},
     "output_type": "execute_result"
    }
   ],
   "source": [
    "del_index_list[:10]"
   ]
  },
  {
   "cell_type": "code",
   "execution_count": 18,
   "id": "1dd2a534",
   "metadata": {
    "ExecuteTime": {
     "end_time": "2021-09-08T21:11:26.034268Z",
     "start_time": "2021-09-08T21:11:25.990228Z"
    },
    "scrolled": true
   },
   "outputs": [
    {
     "data": {
      "text/html": [
       "<div>\n",
       "<style scoped>\n",
       "    .dataframe tbody tr th:only-of-type {\n",
       "        vertical-align: middle;\n",
       "    }\n",
       "\n",
       "    .dataframe tbody tr th {\n",
       "        vertical-align: top;\n",
       "    }\n",
       "\n",
       "    .dataframe thead th {\n",
       "        text-align: right;\n",
       "    }\n",
       "</style>\n",
       "<table border=\"1\" class=\"dataframe\">\n",
       "  <thead>\n",
       "    <tr style=\"text-align: right;\">\n",
       "      <th></th>\n",
       "      <th>InvoiceNo</th>\n",
       "      <th>StockCode</th>\n",
       "      <th>Description</th>\n",
       "      <th>Quantity</th>\n",
       "      <th>InvoiceDate</th>\n",
       "      <th>UnitPrice</th>\n",
       "      <th>CustomerID</th>\n",
       "      <th>Country</th>\n",
       "    </tr>\n",
       "  </thead>\n",
       "  <tbody>\n",
       "    <tr>\n",
       "      <th>0</th>\n",
       "      <td>536365</td>\n",
       "      <td>85123A</td>\n",
       "      <td>WHITE HANGING HEART T-LIGHT HOLDER</td>\n",
       "      <td>6</td>\n",
       "      <td>2010-12-01 08:26:00</td>\n",
       "      <td>2.55</td>\n",
       "      <td>17850.0</td>\n",
       "      <td>United Kingdom</td>\n",
       "    </tr>\n",
       "    <tr>\n",
       "      <th>1</th>\n",
       "      <td>536365</td>\n",
       "      <td>71053</td>\n",
       "      <td>WHITE METAL LANTERN</td>\n",
       "      <td>6</td>\n",
       "      <td>2010-12-01 08:26:00</td>\n",
       "      <td>3.39</td>\n",
       "      <td>17850.0</td>\n",
       "      <td>United Kingdom</td>\n",
       "    </tr>\n",
       "    <tr>\n",
       "      <th>2</th>\n",
       "      <td>536365</td>\n",
       "      <td>84406B</td>\n",
       "      <td>CREAM CUPID HEARTS COAT HANGER</td>\n",
       "      <td>8</td>\n",
       "      <td>2010-12-01 08:26:00</td>\n",
       "      <td>2.75</td>\n",
       "      <td>17850.0</td>\n",
       "      <td>United Kingdom</td>\n",
       "    </tr>\n",
       "  </tbody>\n",
       "</table>\n",
       "</div>"
      ],
      "text/plain": [
       "  InvoiceNo StockCode                         Description  Quantity  \\\n",
       "0    536365    85123A  WHITE HANGING HEART T-LIGHT HOLDER         6   \n",
       "1    536365     71053                 WHITE METAL LANTERN         6   \n",
       "2    536365    84406B      CREAM CUPID HEARTS COAT HANGER         8   \n",
       "\n",
       "          InvoiceDate  UnitPrice  CustomerID         Country  \n",
       "0 2010-12-01 08:26:00       2.55     17850.0  United Kingdom  \n",
       "1 2010-12-01 08:26:00       3.39     17850.0  United Kingdom  \n",
       "2 2010-12-01 08:26:00       2.75     17850.0  United Kingdom  "
      ]
     },
     "execution_count": 18,
     "metadata": {},
     "output_type": "execute_result"
    }
   ],
   "source": [
    "df3 = df.drop(index=del_index_list)\n",
    "df3.head(3)"
   ]
  },
  {
   "cell_type": "code",
   "execution_count": 19,
   "id": "7bf36e64",
   "metadata": {
    "ExecuteTime": {
     "end_time": "2021-09-08T21:11:26.049281Z",
     "start_time": "2021-09-08T21:11:26.034268Z"
    }
   },
   "outputs": [
    {
     "data": {
      "text/plain": [
       "(0, 8)"
      ]
     },
     "execution_count": 19,
     "metadata": {},
     "output_type": "execute_result"
    }
   ],
   "source": [
    "df3[df3['Quantity']<=0].shape"
   ]
  },
  {
   "cell_type": "code",
   "execution_count": 20,
   "id": "5bc40517",
   "metadata": {
    "ExecuteTime": {
     "end_time": "2021-09-08T21:11:26.064396Z",
     "start_time": "2021-09-08T21:11:26.050281Z"
    }
   },
   "outputs": [
    {
     "data": {
      "text/plain": [
       "(394042, 8)"
      ]
     },
     "execution_count": 20,
     "metadata": {},
     "output_type": "execute_result"
    }
   ],
   "source": [
    "df3.shape"
   ]
  },
  {
   "cell_type": "markdown",
   "id": "375cc912",
   "metadata": {},
   "source": [
    "df3는 취소주문과 원주문, 커스터머 아이디가 없는 것을 지웠다. "
   ]
  },
  {
   "cell_type": "markdown",
   "id": "737dfe27",
   "metadata": {},
   "source": [
    "영국만 나누어 보도록 하자(영국이 91%이상을 차지함)"
   ]
  },
  {
   "cell_type": "code",
   "execution_count": 21,
   "id": "07e3e3eb",
   "metadata": {
    "ExecuteTime": {
     "end_time": "2021-09-08T21:11:26.124454Z",
     "start_time": "2021-09-08T21:11:26.065400Z"
    }
   },
   "outputs": [
    {
     "data": {
      "text/plain": [
       "array(['United Kingdom'], dtype=object)"
      ]
     },
     "execution_count": 21,
     "metadata": {},
     "output_type": "execute_result"
    }
   ],
   "source": [
    "retail_df = df3[df3['Country']=='United Kingdom']\n",
    "retail_df.Country.unique()"
   ]
  },
  {
   "cell_type": "markdown",
   "id": "160a732d",
   "metadata": {},
   "source": [
    "'UnitPrice'==0 인 주문건을 지워야 한다. 아마도 재고가 없거나 오류로 발생한 주문건인듯 하다. "
   ]
  },
  {
   "cell_type": "code",
   "execution_count": 22,
   "id": "a6efa45b",
   "metadata": {
    "ExecuteTime": {
     "end_time": "2021-09-08T21:11:26.154482Z",
     "start_time": "2021-09-08T21:11:26.125455Z"
    }
   },
   "outputs": [],
   "source": [
    "retail_df = retail_df[retail_df['UnitPrice']>0]"
   ]
  },
  {
   "cell_type": "code",
   "execution_count": 23,
   "id": "7799b023",
   "metadata": {
    "ExecuteTime": {
     "end_time": "2021-09-08T21:11:26.169214Z",
     "start_time": "2021-09-08T21:11:26.155483Z"
    }
   },
   "outputs": [
    {
     "data": {
      "text/plain": [
       "(351124, 8)"
      ]
     },
     "execution_count": 23,
     "metadata": {},
     "output_type": "execute_result"
    }
   ],
   "source": [
    "retail_df.shape"
   ]
  },
  {
   "cell_type": "markdown",
   "id": "5ac6c2dc",
   "metadata": {},
   "source": [
    "## RFM 기반 data preprocessing"
   ]
  },
  {
   "cell_type": "code",
   "execution_count": 25,
   "id": "f1fd9413",
   "metadata": {
    "ExecuteTime": {
     "end_time": "2021-09-08T21:11:26.199251Z",
     "start_time": "2021-09-08T21:11:26.185229Z"
    }
   },
   "outputs": [],
   "source": [
    "retail_df['sale_amount'] = retail_df['Quantity']*retail_df['UnitPrice']\n",
    "retail_df['CustomerID'] = retail_df['CustomerID'].astype(int)"
   ]
  },
  {
   "cell_type": "code",
   "execution_count": 26,
   "id": "d57ef7af",
   "metadata": {
    "ExecuteTime": {
     "end_time": "2021-09-08T21:13:20.300845Z",
     "start_time": "2021-09-08T21:13:20.269826Z"
    }
   },
   "outputs": [
    {
     "name": "stdout",
     "output_type": "stream",
     "text": [
      "17841    7472\n",
      "14096    5111\n",
      "12748    4548\n",
      "14606    2613\n",
      "15311    2360\n",
      "Name: CustomerID, dtype: int64\n",
      "CustomerID\n",
      "18102    259657.30\n",
      "17450    189767.53\n",
      "17511     81754.38\n",
      "16684     65920.12\n",
      "14096     65164.79\n",
      "Name: sale_amount, dtype: float64\n"
     ]
    }
   ],
   "source": [
    "print(retail_df['CustomerID'].value_counts().head(5))\n",
    "print(retail_df.groupby('CustomerID')['sale_amount'].sum().sort_values(ascending=False)[:5])"
   ]
  },
  {
   "cell_type": "markdown",
   "id": "327ae4e6",
   "metadata": {},
   "source": [
    "주문번호(InvoiceNo) + 상품코드(StockCode) 레벨의 식별자로 되어 있다. "
   ]
  },
  {
   "cell_type": "code",
   "execution_count": 30,
   "id": "48a8666e",
   "metadata": {
    "ExecuteTime": {
     "end_time": "2021-09-08T21:17:41.094577Z",
     "start_time": "2021-09-08T21:17:41.010501Z"
    }
   },
   "outputs": [],
   "source": [
    "invoice_scode=retail_df.groupby(['InvoiceNo', 'StockCode'])['InvoiceNo'].count()"
   ]
  },
  {
   "cell_type": "code",
   "execution_count": 27,
   "id": "fd927341",
   "metadata": {
    "ExecuteTime": {
     "end_time": "2021-09-08T21:16:03.022852Z",
     "start_time": "2021-09-08T21:16:02.941410Z"
    }
   },
   "outputs": [
    {
     "data": {
      "text/plain": [
       "1.028633367511352"
      ]
     },
     "execution_count": 27,
     "metadata": {},
     "output_type": "execute_result"
    }
   ],
   "source": [
    "retail_df.groupby(['InvoiceNo', 'StockCode'])['InvoiceNo'].count().mean()"
   ]
  },
  {
   "cell_type": "code",
   "execution_count": 29,
   "id": "483e41f5",
   "metadata": {
    "ExecuteTime": {
     "end_time": "2021-09-08T21:17:00.982335Z",
     "start_time": "2021-09-08T21:17:00.901303Z"
    }
   },
   "outputs": [
    {
     "data": {
      "text/plain": [
       "InvoiceNo  StockCode\n",
       "536365     21730        False\n",
       "           22752        False\n",
       "           71053        False\n",
       "           84029E       False\n",
       "           84029G       False\n",
       "                        ...  \n",
       "581585     84946        False\n",
       "581586     20685        False\n",
       "           21217        False\n",
       "           22061        False\n",
       "           23275        False\n",
       "Name: InvoiceNo, Length: 341350, dtype: bool"
      ]
     },
     "execution_count": 29,
     "metadata": {},
     "output_type": "execute_result"
    }
   ],
   "source": [
    "retail_df.groupby(['InvoiceNo', 'StockCode'])['InvoiceNo'].count() != 1"
   ]
  },
  {
   "cell_type": "code",
   "execution_count": 33,
   "id": "a7453615",
   "metadata": {
    "ExecuteTime": {
     "end_time": "2021-09-08T21:18:10.519270Z",
     "start_time": "2021-09-08T21:18:10.419924Z"
    }
   },
   "outputs": [
    {
     "data": {
      "text/plain": [
       "InvoiceNo  StockCode\n",
       "536381     71270        2\n",
       "536409     21866        2\n",
       "           22111        2\n",
       "           22866        2\n",
       "           22900        2\n",
       "                       ..\n",
       "581538     23318        2\n",
       "           23343        2\n",
       "           23349        2\n",
       "           84380        2\n",
       "           35004B       2\n",
       "Name: InvoiceNo, Length: 8871, dtype: int64"
      ]
     },
     "execution_count": 33,
     "metadata": {},
     "output_type": "execute_result"
    }
   ],
   "source": [
    "invoice_scode[retail_df.groupby(['InvoiceNo', 'StockCode'])['InvoiceNo'].count() != 1]"
   ]
  },
  {
   "cell_type": "code",
   "execution_count": 56,
   "id": "03f436e1",
   "metadata": {
    "ExecuteTime": {
     "end_time": "2021-09-08T21:38:10.447425Z",
     "start_time": "2021-09-08T21:38:10.343901Z"
    }
   },
   "outputs": [
    {
     "data": {
      "text/plain": [
       "1"
      ]
     },
     "execution_count": 56,
     "metadata": {},
     "output_type": "execute_result"
    }
   ],
   "source": [
    "(invoice_scode[retail_df.groupby(['InvoiceNo', 'StockCode'])['InvoiceNo'].count() != 1]==20).sum()"
   ]
  },
  {
   "cell_type": "code",
   "execution_count": 51,
   "id": "8c9343aa",
   "metadata": {
    "ExecuteTime": {
     "end_time": "2021-09-08T21:34:37.128394Z",
     "start_time": "2021-09-08T21:34:36.994794Z"
    }
   },
   "outputs": [],
   "source": [
    "test_df = retail_df.copy()\n",
    "test_df['In_St'] = test_df['InvoiceNo'].astype(str)+test_df['StockCode'].astype(str)"
   ]
  },
  {
   "cell_type": "code",
   "execution_count": 54,
   "id": "a86d1c63",
   "metadata": {
    "ExecuteTime": {
     "end_time": "2021-09-08T21:37:28.322362Z",
     "start_time": "2021-09-08T21:37:28.014424Z"
    }
   },
   "outputs": [
    {
     "data": {
      "text/plain": [
       "55552422698    20\n",
       "55552422697    12\n",
       "57286122775     8\n",
       "572344M         7\n",
       "57828923395     7\n",
       "               ..\n",
       "56471221843     1\n",
       "56678122654     1\n",
       "54662422621     1\n",
       "58150122447     1\n",
       "56073623321     1\n",
       "Name: In_St, Length: 341350, dtype: int64"
      ]
     },
     "execution_count": 54,
     "metadata": {},
     "output_type": "execute_result"
    }
   ],
   "source": [
    "test_df.sort_values(by='In_St')['In_St'].value_counts()"
   ]
  },
  {
   "cell_type": "code",
   "execution_count": 71,
   "id": "b00a22d7",
   "metadata": {
    "ExecuteTime": {
     "end_time": "2021-09-08T21:49:46.906511Z",
     "start_time": "2021-09-08T21:49:46.648504Z"
    }
   },
   "outputs": [],
   "source": [
    "dup_si = test_df.sort_values(by='In_St')['In_St'].value_counts()"
   ]
  },
  {
   "cell_type": "code",
   "execution_count": 69,
   "id": "130be1d5",
   "metadata": {
    "ExecuteTime": {
     "end_time": "2021-09-08T21:48:20.965297Z",
     "start_time": "2021-09-08T21:48:20.961295Z"
    }
   },
   "outputs": [
    {
     "data": {
      "text/plain": [
       "(351124, 10)"
      ]
     },
     "execution_count": 69,
     "metadata": {},
     "output_type": "execute_result"
    }
   ],
   "source": [
    "test_df.shape"
   ]
  },
  {
   "cell_type": "code",
   "execution_count": 74,
   "id": "db4f2ce1",
   "metadata": {
    "ExecuteTime": {
     "end_time": "2021-09-08T21:52:36.338155Z",
     "start_time": "2021-09-08T21:52:36.061907Z"
    }
   },
   "outputs": [
    {
     "data": {
      "text/plain": [
       "1"
      ]
     },
     "execution_count": 74,
     "metadata": {},
     "output_type": "execute_result"
    }
   ],
   "source": [
    "dup_list = dup_si[test_df.sort_values(by='In_St')['In_St'].value_counts()>=20].index.tolist()\n",
    "len(dup_list)"
   ]
  },
  {
   "cell_type": "code",
   "execution_count": 75,
   "id": "a068c5f7",
   "metadata": {
    "ExecuteTime": {
     "end_time": "2021-09-08T21:52:36.609635Z",
     "start_time": "2021-09-08T21:52:36.587899Z"
    },
    "scrolled": false
   },
   "outputs": [
    {
     "data": {
      "text/html": [
       "<div>\n",
       "<style scoped>\n",
       "    .dataframe tbody tr th:only-of-type {\n",
       "        vertical-align: middle;\n",
       "    }\n",
       "\n",
       "    .dataframe tbody tr th {\n",
       "        vertical-align: top;\n",
       "    }\n",
       "\n",
       "    .dataframe thead th {\n",
       "        text-align: right;\n",
       "    }\n",
       "</style>\n",
       "<table border=\"1\" class=\"dataframe\">\n",
       "  <thead>\n",
       "    <tr style=\"text-align: right;\">\n",
       "      <th></th>\n",
       "      <th>InvoiceNo</th>\n",
       "      <th>StockCode</th>\n",
       "      <th>Description</th>\n",
       "      <th>Quantity</th>\n",
       "      <th>InvoiceDate</th>\n",
       "      <th>UnitPrice</th>\n",
       "      <th>CustomerID</th>\n",
       "      <th>Country</th>\n",
       "      <th>sale_amount</th>\n",
       "      <th>In_St</th>\n",
       "    </tr>\n",
       "  </thead>\n",
       "  <tbody>\n",
       "    <tr>\n",
       "      <th>213176</th>\n",
       "      <td>555524</td>\n",
       "      <td>22698</td>\n",
       "      <td>PINK REGENCY TEACUP AND SAUCER</td>\n",
       "      <td>1</td>\n",
       "      <td>2011-06-05 11:37:00</td>\n",
       "      <td>2.95</td>\n",
       "      <td>16923</td>\n",
       "      <td>United Kingdom</td>\n",
       "      <td>2.95</td>\n",
       "      <td>55552422698</td>\n",
       "    </tr>\n",
       "    <tr>\n",
       "      <th>213206</th>\n",
       "      <td>555524</td>\n",
       "      <td>22698</td>\n",
       "      <td>PINK REGENCY TEACUP AND SAUCER</td>\n",
       "      <td>1</td>\n",
       "      <td>2011-06-05 11:37:00</td>\n",
       "      <td>2.95</td>\n",
       "      <td>16923</td>\n",
       "      <td>United Kingdom</td>\n",
       "      <td>2.95</td>\n",
       "      <td>55552422698</td>\n",
       "    </tr>\n",
       "    <tr>\n",
       "      <th>213205</th>\n",
       "      <td>555524</td>\n",
       "      <td>22698</td>\n",
       "      <td>PINK REGENCY TEACUP AND SAUCER</td>\n",
       "      <td>1</td>\n",
       "      <td>2011-06-05 11:37:00</td>\n",
       "      <td>2.95</td>\n",
       "      <td>16923</td>\n",
       "      <td>United Kingdom</td>\n",
       "      <td>2.95</td>\n",
       "      <td>55552422698</td>\n",
       "    </tr>\n",
       "    <tr>\n",
       "      <th>213204</th>\n",
       "      <td>555524</td>\n",
       "      <td>22698</td>\n",
       "      <td>PINK REGENCY TEACUP AND SAUCER</td>\n",
       "      <td>1</td>\n",
       "      <td>2011-06-05 11:37:00</td>\n",
       "      <td>2.95</td>\n",
       "      <td>16923</td>\n",
       "      <td>United Kingdom</td>\n",
       "      <td>2.95</td>\n",
       "      <td>55552422698</td>\n",
       "    </tr>\n",
       "    <tr>\n",
       "      <th>213203</th>\n",
       "      <td>555524</td>\n",
       "      <td>22698</td>\n",
       "      <td>PINK REGENCY TEACUP AND SAUCER</td>\n",
       "      <td>1</td>\n",
       "      <td>2011-06-05 11:37:00</td>\n",
       "      <td>2.95</td>\n",
       "      <td>16923</td>\n",
       "      <td>United Kingdom</td>\n",
       "      <td>2.95</td>\n",
       "      <td>55552422698</td>\n",
       "    </tr>\n",
       "    <tr>\n",
       "      <th>213202</th>\n",
       "      <td>555524</td>\n",
       "      <td>22698</td>\n",
       "      <td>PINK REGENCY TEACUP AND SAUCER</td>\n",
       "      <td>1</td>\n",
       "      <td>2011-06-05 11:37:00</td>\n",
       "      <td>2.95</td>\n",
       "      <td>16923</td>\n",
       "      <td>United Kingdom</td>\n",
       "      <td>2.95</td>\n",
       "      <td>55552422698</td>\n",
       "    </tr>\n",
       "    <tr>\n",
       "      <th>213201</th>\n",
       "      <td>555524</td>\n",
       "      <td>22698</td>\n",
       "      <td>PINK REGENCY TEACUP AND SAUCER</td>\n",
       "      <td>1</td>\n",
       "      <td>2011-06-05 11:37:00</td>\n",
       "      <td>2.95</td>\n",
       "      <td>16923</td>\n",
       "      <td>United Kingdom</td>\n",
       "      <td>2.95</td>\n",
       "      <td>55552422698</td>\n",
       "    </tr>\n",
       "    <tr>\n",
       "      <th>213200</th>\n",
       "      <td>555524</td>\n",
       "      <td>22698</td>\n",
       "      <td>PINK REGENCY TEACUP AND SAUCER</td>\n",
       "      <td>1</td>\n",
       "      <td>2011-06-05 11:37:00</td>\n",
       "      <td>2.95</td>\n",
       "      <td>16923</td>\n",
       "      <td>United Kingdom</td>\n",
       "      <td>2.95</td>\n",
       "      <td>55552422698</td>\n",
       "    </tr>\n",
       "    <tr>\n",
       "      <th>213199</th>\n",
       "      <td>555524</td>\n",
       "      <td>22698</td>\n",
       "      <td>PINK REGENCY TEACUP AND SAUCER</td>\n",
       "      <td>1</td>\n",
       "      <td>2011-06-05 11:37:00</td>\n",
       "      <td>2.95</td>\n",
       "      <td>16923</td>\n",
       "      <td>United Kingdom</td>\n",
       "      <td>2.95</td>\n",
       "      <td>55552422698</td>\n",
       "    </tr>\n",
       "    <tr>\n",
       "      <th>213198</th>\n",
       "      <td>555524</td>\n",
       "      <td>22698</td>\n",
       "      <td>PINK REGENCY TEACUP AND SAUCER</td>\n",
       "      <td>1</td>\n",
       "      <td>2011-06-05 11:37:00</td>\n",
       "      <td>2.95</td>\n",
       "      <td>16923</td>\n",
       "      <td>United Kingdom</td>\n",
       "      <td>2.95</td>\n",
       "      <td>55552422698</td>\n",
       "    </tr>\n",
       "    <tr>\n",
       "      <th>213197</th>\n",
       "      <td>555524</td>\n",
       "      <td>22698</td>\n",
       "      <td>PINK REGENCY TEACUP AND SAUCER</td>\n",
       "      <td>1</td>\n",
       "      <td>2011-06-05 11:37:00</td>\n",
       "      <td>2.95</td>\n",
       "      <td>16923</td>\n",
       "      <td>United Kingdom</td>\n",
       "      <td>2.95</td>\n",
       "      <td>55552422698</td>\n",
       "    </tr>\n",
       "    <tr>\n",
       "      <th>213196</th>\n",
       "      <td>555524</td>\n",
       "      <td>22698</td>\n",
       "      <td>PINK REGENCY TEACUP AND SAUCER</td>\n",
       "      <td>1</td>\n",
       "      <td>2011-06-05 11:37:00</td>\n",
       "      <td>2.95</td>\n",
       "      <td>16923</td>\n",
       "      <td>United Kingdom</td>\n",
       "      <td>2.95</td>\n",
       "      <td>55552422698</td>\n",
       "    </tr>\n",
       "    <tr>\n",
       "      <th>213195</th>\n",
       "      <td>555524</td>\n",
       "      <td>22698</td>\n",
       "      <td>PINK REGENCY TEACUP AND SAUCER</td>\n",
       "      <td>1</td>\n",
       "      <td>2011-06-05 11:37:00</td>\n",
       "      <td>2.95</td>\n",
       "      <td>16923</td>\n",
       "      <td>United Kingdom</td>\n",
       "      <td>2.95</td>\n",
       "      <td>55552422698</td>\n",
       "    </tr>\n",
       "    <tr>\n",
       "      <th>213194</th>\n",
       "      <td>555524</td>\n",
       "      <td>22698</td>\n",
       "      <td>PINK REGENCY TEACUP AND SAUCER</td>\n",
       "      <td>1</td>\n",
       "      <td>2011-06-05 11:37:00</td>\n",
       "      <td>2.95</td>\n",
       "      <td>16923</td>\n",
       "      <td>United Kingdom</td>\n",
       "      <td>2.95</td>\n",
       "      <td>55552422698</td>\n",
       "    </tr>\n",
       "    <tr>\n",
       "      <th>213192</th>\n",
       "      <td>555524</td>\n",
       "      <td>22698</td>\n",
       "      <td>PINK REGENCY TEACUP AND SAUCER</td>\n",
       "      <td>1</td>\n",
       "      <td>2011-06-05 11:37:00</td>\n",
       "      <td>2.95</td>\n",
       "      <td>16923</td>\n",
       "      <td>United Kingdom</td>\n",
       "      <td>2.95</td>\n",
       "      <td>55552422698</td>\n",
       "    </tr>\n",
       "    <tr>\n",
       "      <th>213191</th>\n",
       "      <td>555524</td>\n",
       "      <td>22698</td>\n",
       "      <td>PINK REGENCY TEACUP AND SAUCER</td>\n",
       "      <td>1</td>\n",
       "      <td>2011-06-05 11:37:00</td>\n",
       "      <td>2.95</td>\n",
       "      <td>16923</td>\n",
       "      <td>United Kingdom</td>\n",
       "      <td>2.95</td>\n",
       "      <td>55552422698</td>\n",
       "    </tr>\n",
       "    <tr>\n",
       "      <th>213183</th>\n",
       "      <td>555524</td>\n",
       "      <td>22698</td>\n",
       "      <td>PINK REGENCY TEACUP AND SAUCER</td>\n",
       "      <td>1</td>\n",
       "      <td>2011-06-05 11:37:00</td>\n",
       "      <td>2.95</td>\n",
       "      <td>16923</td>\n",
       "      <td>United Kingdom</td>\n",
       "      <td>2.95</td>\n",
       "      <td>55552422698</td>\n",
       "    </tr>\n",
       "    <tr>\n",
       "      <th>213177</th>\n",
       "      <td>555524</td>\n",
       "      <td>22698</td>\n",
       "      <td>PINK REGENCY TEACUP AND SAUCER</td>\n",
       "      <td>1</td>\n",
       "      <td>2011-06-05 11:37:00</td>\n",
       "      <td>2.95</td>\n",
       "      <td>16923</td>\n",
       "      <td>United Kingdom</td>\n",
       "      <td>2.95</td>\n",
       "      <td>55552422698</td>\n",
       "    </tr>\n",
       "    <tr>\n",
       "      <th>213207</th>\n",
       "      <td>555524</td>\n",
       "      <td>22698</td>\n",
       "      <td>PINK REGENCY TEACUP AND SAUCER</td>\n",
       "      <td>1</td>\n",
       "      <td>2011-06-05 11:37:00</td>\n",
       "      <td>2.95</td>\n",
       "      <td>16923</td>\n",
       "      <td>United Kingdom</td>\n",
       "      <td>2.95</td>\n",
       "      <td>55552422698</td>\n",
       "    </tr>\n",
       "    <tr>\n",
       "      <th>213208</th>\n",
       "      <td>555524</td>\n",
       "      <td>22698</td>\n",
       "      <td>PINK REGENCY TEACUP AND SAUCER</td>\n",
       "      <td>1</td>\n",
       "      <td>2011-06-05 11:37:00</td>\n",
       "      <td>2.95</td>\n",
       "      <td>16923</td>\n",
       "      <td>United Kingdom</td>\n",
       "      <td>2.95</td>\n",
       "      <td>55552422698</td>\n",
       "    </tr>\n",
       "  </tbody>\n",
       "</table>\n",
       "</div>"
      ],
      "text/plain": [
       "       InvoiceNo StockCode                     Description  Quantity  \\\n",
       "213176    555524     22698  PINK REGENCY TEACUP AND SAUCER         1   \n",
       "213206    555524     22698  PINK REGENCY TEACUP AND SAUCER         1   \n",
       "213205    555524     22698  PINK REGENCY TEACUP AND SAUCER         1   \n",
       "213204    555524     22698  PINK REGENCY TEACUP AND SAUCER         1   \n",
       "213203    555524     22698  PINK REGENCY TEACUP AND SAUCER         1   \n",
       "213202    555524     22698  PINK REGENCY TEACUP AND SAUCER         1   \n",
       "213201    555524     22698  PINK REGENCY TEACUP AND SAUCER         1   \n",
       "213200    555524     22698  PINK REGENCY TEACUP AND SAUCER         1   \n",
       "213199    555524     22698  PINK REGENCY TEACUP AND SAUCER         1   \n",
       "213198    555524     22698  PINK REGENCY TEACUP AND SAUCER         1   \n",
       "213197    555524     22698  PINK REGENCY TEACUP AND SAUCER         1   \n",
       "213196    555524     22698  PINK REGENCY TEACUP AND SAUCER         1   \n",
       "213195    555524     22698  PINK REGENCY TEACUP AND SAUCER         1   \n",
       "213194    555524     22698  PINK REGENCY TEACUP AND SAUCER         1   \n",
       "213192    555524     22698  PINK REGENCY TEACUP AND SAUCER         1   \n",
       "213191    555524     22698  PINK REGENCY TEACUP AND SAUCER         1   \n",
       "213183    555524     22698  PINK REGENCY TEACUP AND SAUCER         1   \n",
       "213177    555524     22698  PINK REGENCY TEACUP AND SAUCER         1   \n",
       "213207    555524     22698  PINK REGENCY TEACUP AND SAUCER         1   \n",
       "213208    555524     22698  PINK REGENCY TEACUP AND SAUCER         1   \n",
       "\n",
       "               InvoiceDate  UnitPrice  CustomerID         Country  \\\n",
       "213176 2011-06-05 11:37:00       2.95       16923  United Kingdom   \n",
       "213206 2011-06-05 11:37:00       2.95       16923  United Kingdom   \n",
       "213205 2011-06-05 11:37:00       2.95       16923  United Kingdom   \n",
       "213204 2011-06-05 11:37:00       2.95       16923  United Kingdom   \n",
       "213203 2011-06-05 11:37:00       2.95       16923  United Kingdom   \n",
       "213202 2011-06-05 11:37:00       2.95       16923  United Kingdom   \n",
       "213201 2011-06-05 11:37:00       2.95       16923  United Kingdom   \n",
       "213200 2011-06-05 11:37:00       2.95       16923  United Kingdom   \n",
       "213199 2011-06-05 11:37:00       2.95       16923  United Kingdom   \n",
       "213198 2011-06-05 11:37:00       2.95       16923  United Kingdom   \n",
       "213197 2011-06-05 11:37:00       2.95       16923  United Kingdom   \n",
       "213196 2011-06-05 11:37:00       2.95       16923  United Kingdom   \n",
       "213195 2011-06-05 11:37:00       2.95       16923  United Kingdom   \n",
       "213194 2011-06-05 11:37:00       2.95       16923  United Kingdom   \n",
       "213192 2011-06-05 11:37:00       2.95       16923  United Kingdom   \n",
       "213191 2011-06-05 11:37:00       2.95       16923  United Kingdom   \n",
       "213183 2011-06-05 11:37:00       2.95       16923  United Kingdom   \n",
       "213177 2011-06-05 11:37:00       2.95       16923  United Kingdom   \n",
       "213207 2011-06-05 11:37:00       2.95       16923  United Kingdom   \n",
       "213208 2011-06-05 11:37:00       2.95       16923  United Kingdom   \n",
       "\n",
       "        sale_amount        In_St  \n",
       "213176         2.95  55552422698  \n",
       "213206         2.95  55552422698  \n",
       "213205         2.95  55552422698  \n",
       "213204         2.95  55552422698  \n",
       "213203         2.95  55552422698  \n",
       "213202         2.95  55552422698  \n",
       "213201         2.95  55552422698  \n",
       "213200         2.95  55552422698  \n",
       "213199         2.95  55552422698  \n",
       "213198         2.95  55552422698  \n",
       "213197         2.95  55552422698  \n",
       "213196         2.95  55552422698  \n",
       "213195         2.95  55552422698  \n",
       "213194         2.95  55552422698  \n",
       "213192         2.95  55552422698  \n",
       "213191         2.95  55552422698  \n",
       "213183         2.95  55552422698  \n",
       "213177         2.95  55552422698  \n",
       "213207         2.95  55552422698  \n",
       "213208         2.95  55552422698  "
      ]
     },
     "execution_count": 75,
     "metadata": {},
     "output_type": "execute_result"
    }
   ],
   "source": [
    "test_df[test_df['In_St'].isin(dup_list)].sort_values('In_St')"
   ]
  },
  {
   "cell_type": "markdown",
   "id": "f14ad06f",
   "metadata": {},
   "source": [
    "test_df는 주문번호(InvoiceNo) + 상품코드(StockCode)를 식별자로 쓰고 싶은데 중복되는것이 다수 보여서 중복 되는 것을 확인해 보려고 만들어 보았는데 위처럼 그냥 완전히 중복된 것으로 보인다. 양이 많지 않음으로 우선은 그냥 넘어가야 할듯 하다. "
   ]
  },
  {
   "cell_type": "markdown",
   "id": "1cb38516",
   "metadata": {},
   "source": [
    "RFM으로 cust_df를 생성해보자."
   ]
  },
  {
   "cell_type": "code",
   "execution_count": 86,
   "id": "418d6e97",
   "metadata": {
    "ExecuteTime": {
     "end_time": "2021-09-08T22:02:39.502637Z",
     "start_time": "2021-09-08T22:02:39.469633Z"
    }
   },
   "outputs": [
    {
     "data": {
      "text/html": [
       "<div>\n",
       "<style scoped>\n",
       "    .dataframe tbody tr th:only-of-type {\n",
       "        vertical-align: middle;\n",
       "    }\n",
       "\n",
       "    .dataframe tbody tr th {\n",
       "        vertical-align: top;\n",
       "    }\n",
       "\n",
       "    .dataframe thead th {\n",
       "        text-align: right;\n",
       "    }\n",
       "</style>\n",
       "<table border=\"1\" class=\"dataframe\">\n",
       "  <thead>\n",
       "    <tr style=\"text-align: right;\">\n",
       "      <th></th>\n",
       "      <th>InvoiceDate</th>\n",
       "      <th>InvoiceNo</th>\n",
       "      <th>sale_amount</th>\n",
       "    </tr>\n",
       "    <tr>\n",
       "      <th>CustomerID</th>\n",
       "      <th></th>\n",
       "      <th></th>\n",
       "      <th></th>\n",
       "    </tr>\n",
       "  </thead>\n",
       "  <tbody>\n",
       "    <tr>\n",
       "      <th>12747</th>\n",
       "      <td>2011-12-07 14:34:00</td>\n",
       "      <td>103</td>\n",
       "      <td>4196.01</td>\n",
       "    </tr>\n",
       "    <tr>\n",
       "      <th>12748</th>\n",
       "      <td>2011-12-09 12:20:00</td>\n",
       "      <td>4548</td>\n",
       "      <td>31981.32</td>\n",
       "    </tr>\n",
       "    <tr>\n",
       "      <th>12749</th>\n",
       "      <td>2011-12-06 09:56:00</td>\n",
       "      <td>199</td>\n",
       "      <td>4090.88</td>\n",
       "    </tr>\n",
       "  </tbody>\n",
       "</table>\n",
       "</div>"
      ],
      "text/plain": [
       "                   InvoiceDate  InvoiceNo  sale_amount\n",
       "CustomerID                                            \n",
       "12747      2011-12-07 14:34:00        103      4196.01\n",
       "12748      2011-12-09 12:20:00       4548     31981.32\n",
       "12749      2011-12-06 09:56:00        199      4090.88"
      ]
     },
     "execution_count": 86,
     "metadata": {},
     "output_type": "execute_result"
    }
   ],
   "source": [
    "# DataFrame의 groupby() 의 multiple 연산을 위해 agg() 이용\n",
    "# Recency는 InvoiceDate 컬럼의 max() 에서 데이터 가공\n",
    "# Frequency는 InvoiceNo 컬럼의 count() , Monetary value는 sale_amount 컬럼의 sum()\n",
    "\n",
    "aggregations = {'InvoiceDate' : 'max', \n",
    "                'InvoiceNo' : 'count',\n",
    "                'sale_amount': 'sum'}\n",
    "cust_df = retail_df.groupby('CustomerID').agg(aggregations)\n",
    "cust_df.head(3)"
   ]
  },
  {
   "cell_type": "code",
   "execution_count": 87,
   "id": "a148a797",
   "metadata": {
    "ExecuteTime": {
     "end_time": "2021-09-08T22:02:39.923159Z",
     "start_time": "2021-09-08T22:02:39.909610Z"
    }
   },
   "outputs": [],
   "source": [
    "cust_df.columns = ['Recency', 'Frequency', 'Monetary']\n",
    "cust_df.reset_index(inplace=True)"
   ]
  },
  {
   "cell_type": "code",
   "execution_count": 88,
   "id": "1b83d8ed",
   "metadata": {
    "ExecuteTime": {
     "end_time": "2021-09-08T22:02:40.313382Z",
     "start_time": "2021-09-08T22:02:40.307377Z"
    }
   },
   "outputs": [
    {
     "data": {
      "text/html": [
       "<div>\n",
       "<style scoped>\n",
       "    .dataframe tbody tr th:only-of-type {\n",
       "        vertical-align: middle;\n",
       "    }\n",
       "\n",
       "    .dataframe tbody tr th {\n",
       "        vertical-align: top;\n",
       "    }\n",
       "\n",
       "    .dataframe thead th {\n",
       "        text-align: right;\n",
       "    }\n",
       "</style>\n",
       "<table border=\"1\" class=\"dataframe\">\n",
       "  <thead>\n",
       "    <tr style=\"text-align: right;\">\n",
       "      <th></th>\n",
       "      <th>CustomerID</th>\n",
       "      <th>Recency</th>\n",
       "      <th>Frequency</th>\n",
       "      <th>Monetary</th>\n",
       "    </tr>\n",
       "  </thead>\n",
       "  <tbody>\n",
       "    <tr>\n",
       "      <th>0</th>\n",
       "      <td>12747</td>\n",
       "      <td>2011-12-07 14:34:00</td>\n",
       "      <td>103</td>\n",
       "      <td>4196.01</td>\n",
       "    </tr>\n",
       "  </tbody>\n",
       "</table>\n",
       "</div>"
      ],
      "text/plain": [
       "   CustomerID             Recency  Frequency  Monetary\n",
       "0       12747 2011-12-07 14:34:00        103   4196.01"
      ]
     },
     "execution_count": 88,
     "metadata": {},
     "output_type": "execute_result"
    }
   ],
   "source": [
    "cust_df.head(1)"
   ]
  },
  {
   "cell_type": "code",
   "execution_count": 89,
   "id": "ba047107",
   "metadata": {
    "ExecuteTime": {
     "end_time": "2021-09-08T22:02:41.259903Z",
     "start_time": "2021-09-08T22:02:41.250389Z"
    }
   },
   "outputs": [
    {
     "data": {
      "text/html": [
       "<div>\n",
       "<style scoped>\n",
       "    .dataframe tbody tr th:only-of-type {\n",
       "        vertical-align: middle;\n",
       "    }\n",
       "\n",
       "    .dataframe tbody tr th {\n",
       "        vertical-align: top;\n",
       "    }\n",
       "\n",
       "    .dataframe thead th {\n",
       "        text-align: right;\n",
       "    }\n",
       "</style>\n",
       "<table border=\"1\" class=\"dataframe\">\n",
       "  <thead>\n",
       "    <tr style=\"text-align: right;\">\n",
       "      <th></th>\n",
       "      <th>CustomerID</th>\n",
       "      <th>Recency</th>\n",
       "      <th>Frequency</th>\n",
       "      <th>Monetary</th>\n",
       "    </tr>\n",
       "  </thead>\n",
       "  <tbody>\n",
       "    <tr>\n",
       "      <th>0</th>\n",
       "      <td>12747</td>\n",
       "      <td>1 days 22:15:00</td>\n",
       "      <td>103</td>\n",
       "      <td>4196.01</td>\n",
       "    </tr>\n",
       "    <tr>\n",
       "      <th>1</th>\n",
       "      <td>12748</td>\n",
       "      <td>0 days 00:29:00</td>\n",
       "      <td>4548</td>\n",
       "      <td>31981.32</td>\n",
       "    </tr>\n",
       "    <tr>\n",
       "      <th>2</th>\n",
       "      <td>12749</td>\n",
       "      <td>3 days 02:53:00</td>\n",
       "      <td>199</td>\n",
       "      <td>4090.88</td>\n",
       "    </tr>\n",
       "  </tbody>\n",
       "</table>\n",
       "</div>"
      ],
      "text/plain": [
       "   CustomerID         Recency  Frequency  Monetary\n",
       "0       12747 1 days 22:15:00        103   4196.01\n",
       "1       12748 0 days 00:29:00       4548  31981.32\n",
       "2       12749 3 days 02:53:00        199   4090.88"
      ]
     },
     "execution_count": 89,
     "metadata": {},
     "output_type": "execute_result"
    }
   ],
   "source": [
    "cust_df['Recency'] = cust_df['Recency'].max() - cust_df['Recency']\n",
    "cust_df.head(3)"
   ]
  },
  {
   "cell_type": "code",
   "execution_count": 90,
   "id": "18881e90",
   "metadata": {
    "ExecuteTime": {
     "end_time": "2021-09-08T22:03:14.525472Z",
     "start_time": "2021-09-08T22:03:14.492905Z"
    }
   },
   "outputs": [
    {
     "data": {
      "text/html": [
       "<div>\n",
       "<style scoped>\n",
       "    .dataframe tbody tr th:only-of-type {\n",
       "        vertical-align: middle;\n",
       "    }\n",
       "\n",
       "    .dataframe tbody tr th {\n",
       "        vertical-align: top;\n",
       "    }\n",
       "\n",
       "    .dataframe thead th {\n",
       "        text-align: right;\n",
       "    }\n",
       "</style>\n",
       "<table border=\"1\" class=\"dataframe\">\n",
       "  <thead>\n",
       "    <tr style=\"text-align: right;\">\n",
       "      <th></th>\n",
       "      <th>CustomerID</th>\n",
       "      <th>Recency</th>\n",
       "      <th>Frequency</th>\n",
       "      <th>Monetary</th>\n",
       "    </tr>\n",
       "  </thead>\n",
       "  <tbody>\n",
       "    <tr>\n",
       "      <th>0</th>\n",
       "      <td>12747</td>\n",
       "      <td>2</td>\n",
       "      <td>103</td>\n",
       "      <td>4196.01</td>\n",
       "    </tr>\n",
       "    <tr>\n",
       "      <th>1</th>\n",
       "      <td>12748</td>\n",
       "      <td>1</td>\n",
       "      <td>4548</td>\n",
       "      <td>31981.32</td>\n",
       "    </tr>\n",
       "    <tr>\n",
       "      <th>2</th>\n",
       "      <td>12749</td>\n",
       "      <td>4</td>\n",
       "      <td>199</td>\n",
       "      <td>4090.88</td>\n",
       "    </tr>\n",
       "    <tr>\n",
       "      <th>3</th>\n",
       "      <td>12820</td>\n",
       "      <td>3</td>\n",
       "      <td>59</td>\n",
       "      <td>942.34</td>\n",
       "    </tr>\n",
       "    <tr>\n",
       "      <th>4</th>\n",
       "      <td>12821</td>\n",
       "      <td>214</td>\n",
       "      <td>6</td>\n",
       "      <td>92.72</td>\n",
       "    </tr>\n",
       "    <tr>\n",
       "      <th>...</th>\n",
       "      <td>...</td>\n",
       "      <td>...</td>\n",
       "      <td>...</td>\n",
       "      <td>...</td>\n",
       "    </tr>\n",
       "    <tr>\n",
       "      <th>3907</th>\n",
       "      <td>18280</td>\n",
       "      <td>278</td>\n",
       "      <td>10</td>\n",
       "      <td>180.60</td>\n",
       "    </tr>\n",
       "    <tr>\n",
       "      <th>3908</th>\n",
       "      <td>18281</td>\n",
       "      <td>181</td>\n",
       "      <td>7</td>\n",
       "      <td>80.82</td>\n",
       "    </tr>\n",
       "    <tr>\n",
       "      <th>3909</th>\n",
       "      <td>18282</td>\n",
       "      <td>8</td>\n",
       "      <td>12</td>\n",
       "      <td>178.05</td>\n",
       "    </tr>\n",
       "    <tr>\n",
       "      <th>3910</th>\n",
       "      <td>18283</td>\n",
       "      <td>4</td>\n",
       "      <td>756</td>\n",
       "      <td>2094.88</td>\n",
       "    </tr>\n",
       "    <tr>\n",
       "      <th>3911</th>\n",
       "      <td>18287</td>\n",
       "      <td>43</td>\n",
       "      <td>70</td>\n",
       "      <td>1837.28</td>\n",
       "    </tr>\n",
       "  </tbody>\n",
       "</table>\n",
       "<p>3912 rows × 4 columns</p>\n",
       "</div>"
      ],
      "text/plain": [
       "      CustomerID  Recency  Frequency  Monetary\n",
       "0          12747        2        103   4196.01\n",
       "1          12748        1       4548  31981.32\n",
       "2          12749        4        199   4090.88\n",
       "3          12820        3         59    942.34\n",
       "4          12821      214          6     92.72\n",
       "...          ...      ...        ...       ...\n",
       "3907       18280      278         10    180.60\n",
       "3908       18281      181          7     80.82\n",
       "3909       18282        8         12    178.05\n",
       "3910       18283        4        756   2094.88\n",
       "3911       18287       43         70   1837.28\n",
       "\n",
       "[3912 rows x 4 columns]"
      ]
     },
     "execution_count": 90,
     "metadata": {},
     "output_type": "execute_result"
    }
   ],
   "source": [
    "cust_df['Recency'] = cust_df['Recency'].apply(lambda x : x.days + 1)\n",
    "cust_df.head(3)"
   ]
  },
  {
   "cell_type": "code",
   "execution_count": 91,
   "id": "bc9ba0fc",
   "metadata": {
    "ExecuteTime": {
     "end_time": "2021-09-08T22:03:54.292680Z",
     "start_time": "2021-09-08T22:03:54.284673Z"
    }
   },
   "outputs": [
    {
     "data": {
      "text/plain": [
       "CustomerID    12747.0\n",
       "Recency           1.0\n",
       "Frequency         1.0\n",
       "Monetary          2.9\n",
       "dtype: float64"
      ]
     },
     "execution_count": 91,
     "metadata": {},
     "output_type": "execute_result"
    }
   ],
   "source": [
    "cust_df.min()"
   ]
  },
  {
   "cell_type": "markdown",
   "id": "23f02a7a",
   "metadata": {},
   "source": [
    "이것으로 기본적인 RFM 전처리는 끝~\n",
    "\n"
   ]
  },
  {
   "cell_type": "code",
   "execution_count": 94,
   "id": "d10c27d3",
   "metadata": {
    "ExecuteTime": {
     "end_time": "2021-09-08T22:05:53.710821Z",
     "start_time": "2021-09-08T22:05:53.297439Z"
    }
   },
   "outputs": [
    {
     "data": {
      "image/png": "[encoded data removed]",
      "text/plain": [
       "<Figure size 432x288 with 4 Axes>"
      ]
     },
     "metadata": {
      "needs_background": "light"
     },
     "output_type": "display_data"
    }
   ],
   "source": [
    "cust_df.iloc[:,1:].hist();"
   ]
  },
  {
   "cell_type": "code",
   "execution_count": 96,
   "id": "2131818d",
   "metadata": {
    "ExecuteTime": {
     "end_time": "2021-09-08T22:10:17.230752Z",
     "start_time": "2021-09-08T22:10:17.138664Z"
    }
   },
   "outputs": [
    {
     "data": {
      "image/png": "[encoded data removed]",
      "text/plain": [
       "<Figure size 432x288 with 1 Axes>"
      ]
     },
     "metadata": {
      "needs_background": "light"
     },
     "output_type": "display_data"
    }
   ],
   "source": [
    "cust_df.iloc[:,1:].boxplot();"
   ]
  },
  {
   "cell_type": "code",
   "execution_count": 95,
   "id": "4c49a542",
   "metadata": {
    "ExecuteTime": {
     "end_time": "2021-09-08T22:09:00.652799Z",
     "start_time": "2021-09-08T22:09:00.624742Z"
    },
    "scrolled": true
   },
   "outputs": [
    {
     "data": {
      "text/html": [
       "<div>\n",
       "<style scoped>\n",
       "    .dataframe tbody tr th:only-of-type {\n",
       "        vertical-align: middle;\n",
       "    }\n",
       "\n",
       "    .dataframe tbody tr th {\n",
       "        vertical-align: top;\n",
       "    }\n",
       "\n",
       "    .dataframe thead th {\n",
       "        text-align: right;\n",
       "    }\n",
       "</style>\n",
       "<table border=\"1\" class=\"dataframe\">\n",
       "  <thead>\n",
       "    <tr style=\"text-align: right;\">\n",
       "      <th></th>\n",
       "      <th>Recency</th>\n",
       "      <th>Frequency</th>\n",
       "      <th>Monetary</th>\n",
       "    </tr>\n",
       "  </thead>\n",
       "  <tbody>\n",
       "    <tr>\n",
       "      <th>count</th>\n",
       "      <td>3912.000000</td>\n",
       "      <td>3912.000000</td>\n",
       "      <td>3912.000000</td>\n",
       "    </tr>\n",
       "    <tr>\n",
       "      <th>mean</th>\n",
       "      <td>92.429192</td>\n",
       "      <td>89.755624</td>\n",
       "      <td>1765.505985</td>\n",
       "    </tr>\n",
       "    <tr>\n",
       "      <th>std</th>\n",
       "      <td>99.757925</td>\n",
       "      <td>213.634324</td>\n",
       "      <td>6702.438578</td>\n",
       "    </tr>\n",
       "    <tr>\n",
       "      <th>min</th>\n",
       "      <td>1.000000</td>\n",
       "      <td>1.000000</td>\n",
       "      <td>2.900000</td>\n",
       "    </tr>\n",
       "    <tr>\n",
       "      <th>25%</th>\n",
       "      <td>18.000000</td>\n",
       "      <td>16.000000</td>\n",
       "      <td>296.555000</td>\n",
       "    </tr>\n",
       "    <tr>\n",
       "      <th>50%</th>\n",
       "      <td>51.000000</td>\n",
       "      <td>41.000000</td>\n",
       "      <td>640.450000</td>\n",
       "    </tr>\n",
       "    <tr>\n",
       "      <th>75%</th>\n",
       "      <td>143.250000</td>\n",
       "      <td>99.000000</td>\n",
       "      <td>1551.240000</td>\n",
       "    </tr>\n",
       "    <tr>\n",
       "      <th>max</th>\n",
       "      <td>374.000000</td>\n",
       "      <td>7472.000000</td>\n",
       "      <td>259657.300000</td>\n",
       "    </tr>\n",
       "  </tbody>\n",
       "</table>\n",
       "</div>"
      ],
      "text/plain": [
       "           Recency    Frequency       Monetary\n",
       "count  3912.000000  3912.000000    3912.000000\n",
       "mean     92.429192    89.755624    1765.505985\n",
       "std      99.757925   213.634324    6702.438578\n",
       "min       1.000000     1.000000       2.900000\n",
       "25%      18.000000    16.000000     296.555000\n",
       "50%      51.000000    41.000000     640.450000\n",
       "75%     143.250000    99.000000    1551.240000\n",
       "max     374.000000  7472.000000  259657.300000"
      ]
     },
     "execution_count": 95,
     "metadata": {},
     "output_type": "execute_result"
    }
   ],
   "source": [
    "cust_df.iloc[:,1:].describe()"
   ]
  },
  {
   "cell_type": "code",
   "execution_count": 98,
   "id": "5654a958",
   "metadata": {
    "ExecuteTime": {
     "end_time": "2021-09-08T22:11:43.882941Z",
     "start_time": "2021-09-08T22:11:43.630854Z"
    }
   },
   "outputs": [
    {
     "data": {
      "image/png": "[encoded data removed]",
      "text/plain": [
       "<Figure size 864x288 with 3 Axes>"
      ]
     },
     "metadata": {
      "needs_background": "light"
     },
     "output_type": "display_data"
    }
   ],
   "source": [
    "fig, (ax1,ax2,ax3) = plt.subplots(figsize=(12,4), nrows=1, ncols=3)\n",
    "ax1.set_title('Recency Histogram')\n",
    "ax1.hist(cust_df['Recency'])\n",
    "\n",
    "ax2.set_title('Frequency Histogram')\n",
    "ax2.hist(cust_df['Frequency'])\n",
    "\n",
    "ax3.set_title('Monetary Histogram')\n",
    "ax3.hist(cust_df['Monetary']);"
   ]
  },
  {
   "cell_type": "markdown",
   "id": "98cc5ca5",
   "metadata": {},
   "source": [
    "# 모델링 "
   ]
  },
  {
   "cell_type": "code",
   "execution_count": 99,
   "id": "4c173d81",
   "metadata": {
    "ExecuteTime": {
     "end_time": "2021-09-08T22:14:22.554983Z",
     "start_time": "2021-09-08T22:14:21.925726Z"
    }
   },
   "outputs": [
    {
     "name": "stdout",
     "output_type": "stream",
     "text": [
      "실루엣 스코어는 : 0.583\n"
     ]
    }
   ],
   "source": [
    "from sklearn.preprocessing import StandardScaler\n",
    "from sklearn.cluster import KMeans\n",
    "from sklearn.metrics import silhouette_score, silhouette_samples\n",
    "\n",
    "X_features = cust_df[['Recency','Frequency','Monetary']].values\n",
    "X_features_scaled = StandardScaler().fit_transform(X_features)\n",
    "\n",
    "kmeans = KMeans(n_clusters=3, random_state=0)\n",
    "labels = kmeans.fit_predict(X_features_scaled)\n",
    "cust_df['cluster_label'] = labels\n",
    "\n",
    "print('실루엣 스코어는 : {0:.3f}'.format(silhouette_score(X_features_scaled,labels)))"
   ]
  },
  {
   "cell_type": "code",
   "execution_count": 106,
   "id": "b1add2c8",
   "metadata": {
    "ExecuteTime": {
     "end_time": "2021-09-08T22:18:42.009431Z",
     "start_time": "2021-09-08T22:18:41.999908Z"
    }
   },
   "outputs": [
    {
     "data": {
      "text/html": [
       "<div>\n",
       "<style scoped>\n",
       "    .dataframe tbody tr th:only-of-type {\n",
       "        vertical-align: middle;\n",
       "    }\n",
       "\n",
       "    .dataframe tbody tr th {\n",
       "        vertical-align: top;\n",
       "    }\n",
       "\n",
       "    .dataframe thead th {\n",
       "        text-align: right;\n",
       "    }\n",
       "</style>\n",
       "<table border=\"1\" class=\"dataframe\">\n",
       "  <thead>\n",
       "    <tr style=\"text-align: right;\">\n",
       "      <th></th>\n",
       "      <th>Recency</th>\n",
       "      <th>Frequency</th>\n",
       "      <th>Monetary</th>\n",
       "    </tr>\n",
       "  </thead>\n",
       "  <tbody>\n",
       "    <tr>\n",
       "      <th>0</th>\n",
       "      <td>-0.906602</td>\n",
       "      <td>0.062003</td>\n",
       "      <td>0.362676</td>\n",
       "    </tr>\n",
       "    <tr>\n",
       "      <th>1</th>\n",
       "      <td>-0.916628</td>\n",
       "      <td>20.871245</td>\n",
       "      <td>4.508758</td>\n",
       "    </tr>\n",
       "    <tr>\n",
       "      <th>2</th>\n",
       "      <td>-0.886551</td>\n",
       "      <td>0.511427</td>\n",
       "      <td>0.346989</td>\n",
       "    </tr>\n",
       "  </tbody>\n",
       "</table>\n",
       "</div>"
      ],
      "text/plain": [
       "    Recency  Frequency  Monetary\n",
       "0 -0.906602   0.062003  0.362676\n",
       "1 -0.916628  20.871245  4.508758\n",
       "2 -0.886551   0.511427  0.346989"
      ]
     },
     "execution_count": 106,
     "metadata": {},
     "output_type": "execute_result"
    }
   ],
   "source": [
    "stantrns_df = pd.DataFrame(data=X_features_scaled, columns=['Recency','Frequency','Monetary'] )\n",
    "stantrns_df.head(3)"
   ]
  },
  {
   "cell_type": "code",
   "execution_count": 108,
   "id": "54c74450",
   "metadata": {
    "ExecuteTime": {
     "end_time": "2021-09-08T22:19:01.116593Z",
     "start_time": "2021-09-08T22:19:00.928738Z"
    }
   },
   "outputs": [
    {
     "data": {
      "image/png": "[encoded data removed]",
      "text/plain": [
       "<Figure size 432x288 with 4 Axes>"
      ]
     },
     "metadata": {
      "needs_background": "light"
     },
     "output_type": "display_data"
    }
   ],
   "source": [
    "stantrns_df.hist();"
   ]
  },
  {
   "cell_type": "code",
   "execution_count": 94,
   "id": "4a36afb3",
   "metadata": {
    "ExecuteTime": {
     "end_time": "2021-09-08T22:05:53.710821Z",
     "start_time": "2021-09-08T22:05:53.297439Z"
    }
   },
   "outputs": [
    {
     "data": {
      "image/png": "[encoded data removed]",
      "text/plain": [
       "<Figure size 432x288 with 4 Axes>"
      ]
     },
     "metadata": {
      "needs_background": "light"
     },
     "output_type": "display_data"
    }
   ],
   "source": [
    "cust_df.iloc[:,1:].hist();"
   ]
  },
  {
   "cell_type": "markdown",
   "id": "e7b42a5a",
   "metadata": {},
   "source": [
    "scale은 다소 편차가 줄어 들었지만, 왜곡도는 향상 되지 않았다. "
   ]
  },
  {
   "cell_type": "code",
   "execution_count": 100,
   "id": "85468ad1",
   "metadata": {
    "ExecuteTime": {
     "end_time": "2021-09-08T22:14:29.132619Z",
     "start_time": "2021-09-08T22:14:29.125611Z"
    }
   },
   "outputs": [],
   "source": [
    "### 여러개의 클러스터링 갯수를 List로 입력 받아 각각의 실루엣 계수를 면적으로 시각화한 함수 작성  \n",
    "def visualize_silhouette(cluster_lists, X_features): \n",
    "    \n",
    "    from sklearn.datasets import make_blobs\n",
    "    from sklearn.cluster import KMeans\n",
    "    from sklearn.metrics import silhouette_samples, silhouette_score\n",
    "\n",
    "    import matplotlib.pyplot as plt\n",
    "    import matplotlib.cm as cm\n",
    "    import math\n",
    "    \n",
    "    # 입력값으로 클러스터링 갯수들을 리스트로 받아서, 각 갯수별로 클러스터링을 적용하고 실루엣 개수를 구함\n",
    "    n_cols = len(cluster_lists)\n",
    "    \n",
    "    # plt.subplots()으로 리스트에 기재된 클러스터링 만큼의 sub figures를 가지는 axs 생성 \n",
    "    fig, axs = plt.subplots(figsize=(4*n_cols, 4), nrows=1, ncols=n_cols)\n",
    "    \n",
    "    # 리스트에 기재된 클러스터링 갯수들을 차례로 iteration 수행하면서 실루엣 개수 시각화\n",
    "    for ind, n_cluster in enumerate(cluster_lists):\n",
    "        \n",
    "        # KMeans 클러스터링 수행하고, 실루엣 스코어와 개별 데이터의 실루엣 값 계산. \n",
    "        clusterer = KMeans(n_clusters = n_cluster, max_iter=500, random_state=0)\n",
    "        cluster_labels = clusterer.fit_predict(X_features)\n",
    "        \n",
    "        sil_avg = silhouette_score(X_features, cluster_labels)\n",
    "        sil_values = silhouette_samples(X_features, cluster_labels)\n",
    "        \n",
    "        y_lower = 10\n",
    "        axs[ind].set_title('Number of Cluster : '+ str(n_cluster)+'\\n' \\\n",
    "                          'Silhouette Score :' + str(round(sil_avg,3)) )\n",
    "        axs[ind].set_xlabel(\"The silhouette coefficient values\")\n",
    "        axs[ind].set_ylabel(\"Cluster label\")\n",
    "        axs[ind].set_xlim([-0.1, 1])\n",
    "        axs[ind].set_ylim([0, len(X_features) + (n_cluster + 1) * 10])\n",
    "        axs[ind].set_yticks([])  # Clear the yaxis labels / ticks\n",
    "        axs[ind].set_xticks([0, 0.2, 0.4, 0.6, 0.8, 1])\n",
    "        \n",
    "        # 클러스터링 갯수별로 fill_betweenx( )형태의 막대 그래프 표현. \n",
    "        for i in range(n_cluster):\n",
    "            ith_cluster_sil_values = sil_values[cluster_labels==i]\n",
    "            ith_cluster_sil_values.sort()\n",
    "            \n",
    "            size_cluster_i = ith_cluster_sil_values.shape[0]\n",
    "            y_upper = y_lower + size_cluster_i\n",
    "            \n",
    "            color = cm.nipy_spectral(float(i) / n_cluster)\n",
    "            axs[ind].fill_betweenx(np.arange(y_lower, y_upper), 0, ith_cluster_sil_values, \\\n",
    "                                facecolor=color, edgecolor=color, alpha=0.7)\n",
    "            axs[ind].text(-0.05, y_lower + 0.5 * size_cluster_i, str(i))\n",
    "            y_lower = y_upper + 10\n",
    "            \n",
    "        axs[ind].axvline(x=sil_avg, color=\"red\", linestyle=\"--\")"
   ]
  },
  {
   "cell_type": "code",
   "execution_count": 119,
   "id": "e1f19f1c",
   "metadata": {
    "ExecuteTime": {
     "end_time": "2021-09-08T22:28:30.167971Z",
     "start_time": "2021-09-08T22:28:30.155961Z"
    }
   },
   "outputs": [],
   "source": [
    "### 여러개의 클러스터링 갯수를 List로 입력 받아 각각의 클러스터링 결과를 시각화 \n",
    "def visualize_kmeans_plot_multi(cluster_lists, X_features):\n",
    "    \n",
    "    from sklearn.cluster import KMeans\n",
    "    from sklearn.decomposition import PCA\n",
    "    import pandas as pd\n",
    "    import numpy as np\n",
    "    \n",
    "    # plt.subplots()으로 리스트에 기재된 클러스터링 만큼의 sub figures를 가지는 axs 생성 \n",
    "    n_cols = len(cluster_lists)\n",
    "    fig, axs = plt.subplots(figsize=(4*n_cols, 4), nrows=1, ncols=n_cols)\n",
    "    \n",
    "    # 입력 데이터의 FEATURE가 여러개일 경우 2차원 데이터 시각화가 어려우므로 PCA 변환하여 2차원 시각화\n",
    "    pca = PCA(n_components=2)\n",
    "    pca_transformed = pca.fit_transform(X_features)\n",
    "    dataframe = pd.DataFrame(pca_transformed, columns=['PCA1','PCA2'])\n",
    "    \n",
    "     # 리스트에 기재된 클러스터링 갯수들을 차례로 iteration 수행하면서 KMeans 클러스터링 수행하고 시각화\n",
    "    for ind, n_cluster in enumerate(cluster_lists):\n",
    "        \n",
    "        # KMeans 클러스터링으로 클러스터링 결과를 dataframe에 저장. \n",
    "        clusterer = KMeans(n_clusters = n_cluster, max_iter=500, random_state=0)\n",
    "        cluster_labels = clusterer.fit_predict(pca_transformed)\n",
    "        dataframe['cluster']=cluster_labels\n",
    "        \n",
    "        unique_labels = np.unique(clusterer.labels_)\n",
    "        markers=['o', 's', '^', 'x', '*']\n",
    "       \n",
    "        # 클러스터링 결과값 별로 scatter plot 으로 시각화\n",
    "        for label in unique_labels:\n",
    "            label_df = dataframe[dataframe['cluster']==label]\n",
    "            if label == -1:\n",
    "                cluster_legend = 'Noise'\n",
    "            else :\n",
    "                cluster_legend = 'Cluster '+str(label)           \n",
    "            axs[ind].scatter(x=label_df['PCA1'], y=label_df['PCA2'], s=70,\\\n",
    "                        edgecolor='k', marker=markers[label], label=cluster_legend +' '+ str(round(label_df.shape[0]/dataframe.shape[0]*100,1))+'%')\n",
    "\n",
    "        axs[ind].set_title('Number of Cluster : '+ str(n_cluster))    \n",
    "        axs[ind].legend(loc='upper right')\n",
    "    \n",
    "    plt.show()"
   ]
  },
  {
   "cell_type": "code",
   "execution_count": 120,
   "id": "cb6a9149",
   "metadata": {
    "ExecuteTime": {
     "end_time": "2021-09-08T22:28:33.818570Z",
     "start_time": "2021-09-08T22:28:31.309993Z"
    }
   },
   "outputs": [
    {
     "data": {
      "image/png": "[encoded data removed]",
      "text/plain": [
       "<Figure size 1152x288 with 4 Axes>"
      ]
     },
     "metadata": {
      "needs_background": "light"
     },
     "output_type": "display_data"
    },
    {
     "data": {
      "image/png": "[encoded data removed]",
      "text/plain": [
       "<Figure size 1152x288 with 4 Axes>"
      ]
     },
     "metadata": {
      "needs_background": "light"
     },
     "output_type": "display_data"
    }
   ],
   "source": [
    "visualize_silhouette([2,3,4,5],X_features_scaled)\n",
    "visualize_kmeans_plot_multi([2,3,4,5],X_features_scaled)"
   ]
  },
  {
   "cell_type": "markdown",
   "id": "017fed31",
   "metadata": {},
   "source": [
    "2,3,4 에서는 70%이상이 한쪽으로 몰려있고, 5에서도 66%이상이 한쪽으로 군집화가 된것을 알수 있다. \n",
    "\n",
    "가장 낮은 쪽에 대부분의 그룹이 모여 있는것을 확인 할수 있는데, \n",
    "\n",
    "지나치게 일반적인 군집화 결과를 도출하게 된다. \n",
    "\n",
    "판매처 특성상 항상 모여있는 곳이 있기 마련인데, 우리의 목표는 간단한 분석만으로 아는 것을 확인하는 것이 아니라, 무언가 새로운 관점을 찾기 위함이다. \n",
    "\n",
    "가장 큰 이유는 왜곡된 데이터 값 때문인데 이를 해결하려면 log 변환을 사용해 보자."
   ]
  },
  {
   "cell_type": "code",
   "execution_count": 123,
   "id": "af21a7ba",
   "metadata": {
    "ExecuteTime": {
     "end_time": "2021-09-08T22:36:59.178914Z",
     "start_time": "2021-09-08T22:36:59.161889Z"
    }
   },
   "outputs": [],
   "source": [
    "cust_log_df = pd.DataFrame()\n",
    "cust_log_df['Recency_log'] = np.log1p(cust_df['Recency'])\n",
    "cust_log_df['Frequency_log'] = np.log1p(cust_df['Frequency'])\n",
    "cust_log_df['Monetary_log'] = np.log1p(cust_df['Monetary'])"
   ]
  },
  {
   "cell_type": "code",
   "execution_count": 125,
   "id": "79ec0784",
   "metadata": {
    "ExecuteTime": {
     "end_time": "2021-09-08T22:37:09.969605Z",
     "start_time": "2021-09-08T22:37:09.774427Z"
    },
    "scrolled": true
   },
   "outputs": [
    {
     "data": {
      "image/png": "[encoded data removed]",
      "text/plain": [
       "<Figure size 432x288 with 4 Axes>"
      ]
     },
     "metadata": {
      "needs_background": "light"
     },
     "output_type": "display_data"
    }
   ],
   "source": [
    "cust_log_df.hist();"
   ]
  },
  {
   "cell_type": "code",
   "execution_count": 128,
   "id": "e0886353",
   "metadata": {
    "ExecuteTime": {
     "end_time": "2021-09-08T22:40:07.681998Z",
     "start_time": "2021-09-08T22:40:07.453911Z"
    }
   },
   "outputs": [
    {
     "name": "stdout",
     "output_type": "stream",
     "text": [
      "실루엣 스코어는 : 0.304\n"
     ]
    }
   ],
   "source": [
    "X_features = cust_log_df[['Recency_log','Frequency_log','Monetary_log']].values\n",
    "X_features_scaled = StandardScaler().fit_transform(X_features)\n",
    "\n",
    "kmeans = KMeans(n_clusters=3, random_state=0)\n",
    "labels = kmeans.fit_predict(X_features_scaled)\n",
    "cust_df['cluster_label'] = labels\n",
    "\n",
    "print('실루엣 스코어는 : {0:.3f}'.format(silhouette_score(X_features_scaled,labels)))"
   ]
  },
  {
   "cell_type": "code",
   "execution_count": 129,
   "id": "6f60f628",
   "metadata": {
    "ExecuteTime": {
     "end_time": "2021-09-08T22:40:48.214484Z",
     "start_time": "2021-09-08T22:40:48.197897Z"
    }
   },
   "outputs": [
    {
     "data": {
      "text/html": [
       "<div>\n",
       "<style scoped>\n",
       "    .dataframe tbody tr th:only-of-type {\n",
       "        vertical-align: middle;\n",
       "    }\n",
       "\n",
       "    .dataframe tbody tr th {\n",
       "        vertical-align: top;\n",
       "    }\n",
       "\n",
       "    .dataframe thead th {\n",
       "        text-align: right;\n",
       "    }\n",
       "</style>\n",
       "<table border=\"1\" class=\"dataframe\">\n",
       "  <thead>\n",
       "    <tr style=\"text-align: right;\">\n",
       "      <th></th>\n",
       "      <th>Recency</th>\n",
       "      <th>Frequency</th>\n",
       "      <th>Monetary</th>\n",
       "    </tr>\n",
       "  </thead>\n",
       "  <tbody>\n",
       "    <tr>\n",
       "      <th>0</th>\n",
       "      <td>-2.035466</td>\n",
       "      <td>0.737299</td>\n",
       "      <td>1.461395</td>\n",
       "    </tr>\n",
       "    <tr>\n",
       "      <th>1</th>\n",
       "      <td>-2.337718</td>\n",
       "      <td>3.734474</td>\n",
       "      <td>3.100366</td>\n",
       "    </tr>\n",
       "    <tr>\n",
       "      <th>2</th>\n",
       "      <td>-1.654674</td>\n",
       "      <td>1.256037</td>\n",
       "      <td>1.440922</td>\n",
       "    </tr>\n",
       "  </tbody>\n",
       "</table>\n",
       "</div>"
      ],
      "text/plain": [
       "    Recency  Frequency  Monetary\n",
       "0 -2.035466   0.737299  1.461395\n",
       "1 -2.337718   3.734474  3.100366\n",
       "2 -1.654674   1.256037  1.440922"
      ]
     },
     "execution_count": 129,
     "metadata": {},
     "output_type": "execute_result"
    }
   ],
   "source": [
    "log_stantrns_df = pd.DataFrame(data=X_features_scaled, columns=['Recency','Frequency','Monetary'] )\n",
    "log_stantrns_df.head(3)"
   ]
  },
  {
   "cell_type": "code",
   "execution_count": 130,
   "id": "77ebde54",
   "metadata": {
    "ExecuteTime": {
     "end_time": "2021-09-08T22:40:57.230873Z",
     "start_time": "2021-09-08T22:40:57.027863Z"
    }
   },
   "outputs": [
    {
     "data": {
      "image/png": "[encoded data removed]",
      "text/plain": [
       "<Figure size 432x288 with 4 Axes>"
      ]
     },
     "metadata": {
      "needs_background": "light"
     },
     "output_type": "display_data"
    }
   ],
   "source": [
    "log_stantrns_df.hist();"
   ]
  },
  {
   "cell_type": "code",
   "execution_count": 131,
   "id": "dc0564e1",
   "metadata": {
    "ExecuteTime": {
     "end_time": "2021-09-08T22:41:23.729183Z",
     "start_time": "2021-09-08T22:41:21.233222Z"
    }
   },
   "outputs": [
    {
     "data": {
      "image/png": "[encoded data removed]",
      "text/plain": [
       "<Figure size 1152x288 with 4 Axes>"
      ]
     },
     "metadata": {
      "needs_background": "light"
     },
     "output_type": "display_data"
    },
    {
     "data": {
      "image/png": "[encoded data removed]",
      "text/plain": [
       "<Figure size 1152x288 with 4 Axes>"
      ]
     },
     "metadata": {
      "needs_background": "light"
     },
     "output_type": "display_data"
    }
   ],
   "source": [
    "visualize_silhouette([2,3,4,5],X_features_scaled)\n",
    "visualize_kmeans_plot_multi([2,3,4,5],X_features_scaled)"
   ]
  },
  {
   "cell_type": "markdown",
   "id": "1ca80122",
   "metadata": {},
   "source": [
    "**Reference**\n",
    "\n",
    "* <a href='https://github.com/SeWonKwon' ><div> <img src ='https://slid-capture.s3.ap-northeast-2.amazonaws.com/public/image_upload/6556674324ed41a289a354258718280d/964e5a8b-75ad-41fc-ae75-0ca66d06fbc7.png' align='left' /> </div></a>\n",
    "\n",
    "<br>\n",
    "\n",
    "* 파이썬 머신러닝 완벽 가이드, 권철민\n",
    "\n"
   ]
  }
 ],
 "metadata": {
  "kernelspec": {
   "display_name": "Python 3",
   "language": "python",
   "name": "python3"
  },
  "language_info": {
   "codemirror_mode": {
    "name": "ipython",
    "version": 3
   },
   "file_extension": ".py",
   "mimetype": "text/x-python",
   "name": "python",
   "nbconvert_exporter": "python",
   "pygments_lexer": "ipython3",
   "version": "3.8.5"
  },
  "toc": {
   "base_numbering": 1,
   "nav_menu": {},
   "number_sections": true,
   "sideBar": true,
   "skip_h1_title": false,
   "title_cell": "Table of Contents",
   "title_sidebar": "Contents",
   "toc_cell": false,
   "toc_position": {
    "height": "calc(100% - 180px)",
    "left": "10px",
    "top": "150px",
    "width": "379.398px"
   },
   "toc_section_display": true,
   "toc_window_display": true
  }
 },
 "nbformat": 4,
 "nbformat_minor": 5
}
