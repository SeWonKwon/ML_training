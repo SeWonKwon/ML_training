{
 "cells": [
  {
   "cell_type": "markdown",
   "id": "d39ab342",
   "metadata": {},
   "source": [
    "<a href='https://github.com/SeWonKwon' ><div> <img src ='https://slid-capture.s3.ap-northeast-2.amazonaws.com/public/image_upload/6556674324ed41a289a354258718280d/964e5a8b-75ad-41fc-ae75-0ca66d06fbc7.png' align='left' /> </div></a>\n"
   ]
  },
  {
   "cell_type": "markdown",
   "id": "0dcce6f4",
   "metadata": {},
   "source": [
    "source : https://www.kaggle.com/c/mercari-price-suggestion-challenge/data"
   ]
  },
  {
   "cell_type": "markdown",
   "id": "4a1d57dd",
   "metadata": {},
   "source": [
    "googledrive download link : https://drive.google.com/file/d/1W3qtrtcbkCP3Tgnx56r0EHWF421qj-dF/view?usp=sharing"
   ]
  },
  {
   "cell_type": "markdown",
   "id": "8fea6ef5",
   "metadata": {},
   "source": [
    "# column 정보"
   ]
  },
  {
   "cell_type": "markdown",
   "id": "f5a73a33",
   "metadata": {},
   "source": [
    "\n",
    "* **train_id or test_id** - the id of the listing\n",
    "\n",
    "* **name** - the title of the listing. Note that we have cleaned the data to remove text that look like prices (e.g. \\$20) to avoid leakage. These removed prices are represented as `[rm]`\n",
    "\n",
    "* **item_condition_id** - the condition of the items provided by the seller\n",
    "\n",
    "* **category_name** - category of the listing\n",
    "\n",
    "* **brand_name**\n",
    "\n",
    "* **price** - the price that the item was sold for. This is the target variable that you will predict. The unit is USD. This column doesn't exist in test.tsv since that is what you will predict.\n",
    "\n",
    "* **shipping** - 1 if shipping fee is paid by seller and 0 by buyer\n",
    "\n",
    "* **item_description** - the full description of the item. Note that we have cleaned the data to remove text that look like prices (e.g. $20) to avoid leakage. These removed prices are represented as `[rm]`\n"
   ]
  },
  {
   "cell_type": "markdown",
   "id": "67d8632c",
   "metadata": {},
   "source": [
    "# get data"
   ]
  },
  {
   "cell_type": "code",
   "execution_count": 1,
   "id": "0363aa1e",
   "metadata": {
    "ExecuteTime": {
     "end_time": "2021-09-21T07:28:51.559049Z",
     "start_time": "2021-09-21T07:28:48.155237Z"
    },
    "scrolled": true
   },
   "outputs": [
    {
     "data": {
      "text/html": [
       "<div>\n",
       "<style scoped>\n",
       "    .dataframe tbody tr th:only-of-type {\n",
       "        vertical-align: middle;\n",
       "    }\n",
       "\n",
       "    .dataframe tbody tr th {\n",
       "        vertical-align: top;\n",
       "    }\n",
       "\n",
       "    .dataframe thead th {\n",
       "        text-align: right;\n",
       "    }\n",
       "</style>\n",
       "<table border=\"1\" class=\"dataframe\">\n",
       "  <thead>\n",
       "    <tr style=\"text-align: right;\">\n",
       "      <th></th>\n",
       "      <th>train_id</th>\n",
       "      <th>name</th>\n",
       "      <th>item_condition_id</th>\n",
       "      <th>category_name</th>\n",
       "      <th>brand_name</th>\n",
       "      <th>price</th>\n",
       "      <th>shipping</th>\n",
       "      <th>item_description</th>\n",
       "    </tr>\n",
       "  </thead>\n",
       "  <tbody>\n",
       "    <tr>\n",
       "      <th>0</th>\n",
       "      <td>0</td>\n",
       "      <td>MLB Cincinnati Reds T Shirt Size XL</td>\n",
       "      <td>3</td>\n",
       "      <td>Men/Tops/T-shirts</td>\n",
       "      <td>NaN</td>\n",
       "      <td>10.0</td>\n",
       "      <td>1</td>\n",
       "      <td>No description yet</td>\n",
       "    </tr>\n",
       "    <tr>\n",
       "      <th>1</th>\n",
       "      <td>1</td>\n",
       "      <td>Razer BlackWidow Chroma Keyboard</td>\n",
       "      <td>3</td>\n",
       "      <td>Electronics/Computers &amp; Tablets/Components &amp; P...</td>\n",
       "      <td>Razer</td>\n",
       "      <td>52.0</td>\n",
       "      <td>0</td>\n",
       "      <td>This keyboard is in great condition and works ...</td>\n",
       "    </tr>\n",
       "    <tr>\n",
       "      <th>2</th>\n",
       "      <td>2</td>\n",
       "      <td>AVA-VIV Blouse</td>\n",
       "      <td>1</td>\n",
       "      <td>Women/Tops &amp; Blouses/Blouse</td>\n",
       "      <td>Target</td>\n",
       "      <td>10.0</td>\n",
       "      <td>1</td>\n",
       "      <td>Adorable top with a hint of lace and a key hol...</td>\n",
       "    </tr>\n",
       "    <tr>\n",
       "      <th>3</th>\n",
       "      <td>3</td>\n",
       "      <td>Leather Horse Statues</td>\n",
       "      <td>1</td>\n",
       "      <td>Home/Home Décor/Home Décor Accents</td>\n",
       "      <td>NaN</td>\n",
       "      <td>35.0</td>\n",
       "      <td>1</td>\n",
       "      <td>New with tags. Leather horses. Retail for [rm]...</td>\n",
       "    </tr>\n",
       "    <tr>\n",
       "      <th>4</th>\n",
       "      <td>4</td>\n",
       "      <td>24K GOLD plated rose</td>\n",
       "      <td>1</td>\n",
       "      <td>Women/Jewelry/Necklaces</td>\n",
       "      <td>NaN</td>\n",
       "      <td>44.0</td>\n",
       "      <td>0</td>\n",
       "      <td>Complete with certificate of authenticity</td>\n",
       "    </tr>\n",
       "    <tr>\n",
       "      <th>...</th>\n",
       "      <td>...</td>\n",
       "      <td>...</td>\n",
       "      <td>...</td>\n",
       "      <td>...</td>\n",
       "      <td>...</td>\n",
       "      <td>...</td>\n",
       "      <td>...</td>\n",
       "      <td>...</td>\n",
       "    </tr>\n",
       "    <tr>\n",
       "      <th>1482530</th>\n",
       "      <td>1482530</td>\n",
       "      <td>Free People Inspired Dress</td>\n",
       "      <td>2</td>\n",
       "      <td>Women/Dresses/Mid-Calf</td>\n",
       "      <td>Free People</td>\n",
       "      <td>20.0</td>\n",
       "      <td>1</td>\n",
       "      <td>Lace, says size small but fits medium perfectl...</td>\n",
       "    </tr>\n",
       "    <tr>\n",
       "      <th>1482531</th>\n",
       "      <td>1482531</td>\n",
       "      <td>Little mermaid handmade dress</td>\n",
       "      <td>2</td>\n",
       "      <td>Kids/Girls 2T-5T/Dresses</td>\n",
       "      <td>Disney</td>\n",
       "      <td>14.0</td>\n",
       "      <td>0</td>\n",
       "      <td>Little mermaid handmade dress never worn size 2t</td>\n",
       "    </tr>\n",
       "    <tr>\n",
       "      <th>1482532</th>\n",
       "      <td>1482532</td>\n",
       "      <td>21 day fix containers and eating plan</td>\n",
       "      <td>2</td>\n",
       "      <td>Sports &amp; Outdoors/Exercise/Fitness accessories</td>\n",
       "      <td>NaN</td>\n",
       "      <td>12.0</td>\n",
       "      <td>0</td>\n",
       "      <td>Used once or twice, still in great shape.</td>\n",
       "    </tr>\n",
       "    <tr>\n",
       "      <th>1482533</th>\n",
       "      <td>1482533</td>\n",
       "      <td>World markets lanterns</td>\n",
       "      <td>3</td>\n",
       "      <td>Home/Home Décor/Home Décor Accents</td>\n",
       "      <td>NaN</td>\n",
       "      <td>45.0</td>\n",
       "      <td>1</td>\n",
       "      <td>There is 2 of each one that you see! So 2 red ...</td>\n",
       "    </tr>\n",
       "    <tr>\n",
       "      <th>1482534</th>\n",
       "      <td>1482534</td>\n",
       "      <td>Brand new lux de ville wallet</td>\n",
       "      <td>1</td>\n",
       "      <td>Women/Women's Accessories/Wallets</td>\n",
       "      <td>NaN</td>\n",
       "      <td>22.0</td>\n",
       "      <td>0</td>\n",
       "      <td>New with tag, red with sparkle. Firm price, no...</td>\n",
       "    </tr>\n",
       "  </tbody>\n",
       "</table>\n",
       "<p>1482535 rows × 8 columns</p>\n",
       "</div>"
      ],
      "text/plain": [
       "         train_id                                   name  item_condition_id  \\\n",
       "0               0    MLB Cincinnati Reds T Shirt Size XL                  3   \n",
       "1               1       Razer BlackWidow Chroma Keyboard                  3   \n",
       "2               2                         AVA-VIV Blouse                  1   \n",
       "3               3                  Leather Horse Statues                  1   \n",
       "4               4                   24K GOLD plated rose                  1   \n",
       "...           ...                                    ...                ...   \n",
       "1482530   1482530             Free People Inspired Dress                  2   \n",
       "1482531   1482531          Little mermaid handmade dress                  2   \n",
       "1482532   1482532  21 day fix containers and eating plan                  2   \n",
       "1482533   1482533                 World markets lanterns                  3   \n",
       "1482534   1482534          Brand new lux de ville wallet                  1   \n",
       "\n",
       "                                             category_name   brand_name  \\\n",
       "0                                        Men/Tops/T-shirts          NaN   \n",
       "1        Electronics/Computers & Tablets/Components & P...        Razer   \n",
       "2                              Women/Tops & Blouses/Blouse       Target   \n",
       "3                       Home/Home Décor/Home Décor Accents          NaN   \n",
       "4                                  Women/Jewelry/Necklaces          NaN   \n",
       "...                                                    ...          ...   \n",
       "1482530                             Women/Dresses/Mid-Calf  Free People   \n",
       "1482531                           Kids/Girls 2T-5T/Dresses       Disney   \n",
       "1482532     Sports & Outdoors/Exercise/Fitness accessories          NaN   \n",
       "1482533                 Home/Home Décor/Home Décor Accents          NaN   \n",
       "1482534                  Women/Women's Accessories/Wallets          NaN   \n",
       "\n",
       "         price  shipping                                   item_description  \n",
       "0         10.0         1                                 No description yet  \n",
       "1         52.0         0  This keyboard is in great condition and works ...  \n",
       "2         10.0         1  Adorable top with a hint of lace and a key hol...  \n",
       "3         35.0         1  New with tags. Leather horses. Retail for [rm]...  \n",
       "4         44.0         0          Complete with certificate of authenticity  \n",
       "...        ...       ...                                                ...  \n",
       "1482530   20.0         1  Lace, says size small but fits medium perfectl...  \n",
       "1482531   14.0         0   Little mermaid handmade dress never worn size 2t  \n",
       "1482532   12.0         0          Used once or twice, still in great shape.  \n",
       "1482533   45.0         1  There is 2 of each one that you see! So 2 red ...  \n",
       "1482534   22.0         0  New with tag, red with sparkle. Firm price, no...  \n",
       "\n",
       "[1482535 rows x 8 columns]"
      ]
     },
     "execution_count": 1,
     "metadata": {},
     "output_type": "execute_result"
    }
   ],
   "source": [
    "import pandas as pd\n",
    "\n",
    "df = pd.read_csv('./data/train.tsv', sep='\\t')\n",
    "df.head(3)"
   ]
  },
  {
   "cell_type": "code",
   "execution_count": 11,
   "id": "e20e1a2c",
   "metadata": {
    "ExecuteTime": {
     "end_time": "2021-09-21T07:34:03.514917Z",
     "start_time": "2021-09-21T07:34:03.499904Z"
    }
   },
   "outputs": [],
   "source": [
    "def get_df_info(df, short=False):\n",
    "    print('데이터 세트의 Shape:', df.shape)\n",
    "    print('\\n전체 피처의 dtype\\n', df.dtypes.value_counts())\n",
    "    isnull_series = df.isnull().sum()\n",
    "    null_column_count = df.isnull().sum()[df.isnull().sum()>0]\n",
    "    df_null = pd.DataFrame({'dtype':df.dtypes[null_column_count.index], 'null_count':df.isnull().sum()[df.isnull().sum()>0]})\n",
    "    df_null['null_per'] = df_null['null_count'].apply(lambda x : round(x*100/df.shape[0], 2))\n",
    "    if short:\n",
    "        display(df_null.sort_values('null_count',ascending=False).head())\n",
    "        display(df.describe().T.head())\n",
    "    else:\n",
    "        display(df_null.sort_values('null_count',ascending=False))\n",
    "        display(df.describe().T)"
   ]
  },
  {
   "cell_type": "code",
   "execution_count": 12,
   "id": "62933291",
   "metadata": {
    "ExecuteTime": {
     "end_time": "2021-09-21T07:34:05.196938Z",
     "start_time": "2021-09-21T07:34:04.108926Z"
    },
    "scrolled": false
   },
   "outputs": [
    {
     "name": "stdout",
     "output_type": "stream",
     "text": [
      "데이터 세트의 Shape: (1482535, 8)\n",
      "\n",
      "전체 피처의 dtype\n",
      " object     4\n",
      "int64      3\n",
      "float64    1\n",
      "dtype: int64\n"
     ]
    },
    {
     "data": {
      "text/html": [
       "<div>\n",
       "<style scoped>\n",
       "    .dataframe tbody tr th:only-of-type {\n",
       "        vertical-align: middle;\n",
       "    }\n",
       "\n",
       "    .dataframe tbody tr th {\n",
       "        vertical-align: top;\n",
       "    }\n",
       "\n",
       "    .dataframe thead th {\n",
       "        text-align: right;\n",
       "    }\n",
       "</style>\n",
       "<table border=\"1\" class=\"dataframe\">\n",
       "  <thead>\n",
       "    <tr style=\"text-align: right;\">\n",
       "      <th></th>\n",
       "      <th>dtype</th>\n",
       "      <th>null_count</th>\n",
       "      <th>null_per</th>\n",
       "    </tr>\n",
       "  </thead>\n",
       "  <tbody>\n",
       "    <tr>\n",
       "      <th>brand_name</th>\n",
       "      <td>object</td>\n",
       "      <td>632682</td>\n",
       "      <td>42.68</td>\n",
       "    </tr>\n",
       "    <tr>\n",
       "      <th>category_name</th>\n",
       "      <td>object</td>\n",
       "      <td>6327</td>\n",
       "      <td>0.43</td>\n",
       "    </tr>\n",
       "    <tr>\n",
       "      <th>item_description</th>\n",
       "      <td>object</td>\n",
       "      <td>4</td>\n",
       "      <td>0.00</td>\n",
       "    </tr>\n",
       "  </tbody>\n",
       "</table>\n",
       "</div>"
      ],
      "text/plain": [
       "                   dtype  null_count  null_per\n",
       "brand_name        object      632682     42.68\n",
       "category_name     object        6327      0.43\n",
       "item_description  object           4      0.00"
      ]
     },
     "metadata": {},
     "output_type": "display_data"
    },
    {
     "data": {
      "text/html": [
       "<div>\n",
       "<style scoped>\n",
       "    .dataframe tbody tr th:only-of-type {\n",
       "        vertical-align: middle;\n",
       "    }\n",
       "\n",
       "    .dataframe tbody tr th {\n",
       "        vertical-align: top;\n",
       "    }\n",
       "\n",
       "    .dataframe thead th {\n",
       "        text-align: right;\n",
       "    }\n",
       "</style>\n",
       "<table border=\"1\" class=\"dataframe\">\n",
       "  <thead>\n",
       "    <tr style=\"text-align: right;\">\n",
       "      <th></th>\n",
       "      <th>count</th>\n",
       "      <th>mean</th>\n",
       "      <th>std</th>\n",
       "      <th>min</th>\n",
       "      <th>25%</th>\n",
       "      <th>50%</th>\n",
       "      <th>75%</th>\n",
       "      <th>max</th>\n",
       "    </tr>\n",
       "  </thead>\n",
       "  <tbody>\n",
       "    <tr>\n",
       "      <th>train_id</th>\n",
       "      <td>1482535.0</td>\n",
       "      <td>741267.000000</td>\n",
       "      <td>427971.135004</td>\n",
       "      <td>0.0</td>\n",
       "      <td>370633.5</td>\n",
       "      <td>741267.0</td>\n",
       "      <td>1111900.5</td>\n",
       "      <td>1482534.0</td>\n",
       "    </tr>\n",
       "    <tr>\n",
       "      <th>item_condition_id</th>\n",
       "      <td>1482535.0</td>\n",
       "      <td>1.907380</td>\n",
       "      <td>0.903159</td>\n",
       "      <td>1.0</td>\n",
       "      <td>1.0</td>\n",
       "      <td>2.0</td>\n",
       "      <td>3.0</td>\n",
       "      <td>5.0</td>\n",
       "    </tr>\n",
       "    <tr>\n",
       "      <th>price</th>\n",
       "      <td>1482535.0</td>\n",
       "      <td>26.737516</td>\n",
       "      <td>38.586066</td>\n",
       "      <td>0.0</td>\n",
       "      <td>10.0</td>\n",
       "      <td>17.0</td>\n",
       "      <td>29.0</td>\n",
       "      <td>2009.0</td>\n",
       "    </tr>\n",
       "    <tr>\n",
       "      <th>shipping</th>\n",
       "      <td>1482535.0</td>\n",
       "      <td>0.447274</td>\n",
       "      <td>0.497212</td>\n",
       "      <td>0.0</td>\n",
       "      <td>0.0</td>\n",
       "      <td>0.0</td>\n",
       "      <td>1.0</td>\n",
       "      <td>1.0</td>\n",
       "    </tr>\n",
       "  </tbody>\n",
       "</table>\n",
       "</div>"
      ],
      "text/plain": [
       "                       count           mean            std  min       25%  \\\n",
       "train_id           1482535.0  741267.000000  427971.135004  0.0  370633.5   \n",
       "item_condition_id  1482535.0       1.907380       0.903159  1.0       1.0   \n",
       "price              1482535.0      26.737516      38.586066  0.0      10.0   \n",
       "shipping           1482535.0       0.447274       0.497212  0.0       0.0   \n",
       "\n",
       "                        50%        75%        max  \n",
       "train_id           741267.0  1111900.5  1482534.0  \n",
       "item_condition_id       2.0        3.0        5.0  \n",
       "price                  17.0       29.0     2009.0  \n",
       "shipping                0.0        1.0        1.0  "
      ]
     },
     "metadata": {},
     "output_type": "display_data"
    }
   ],
   "source": [
    "get_df_info(df)"
   ]
  },
  {
   "cell_type": "markdown",
   "id": "a8d5a0d2",
   "metadata": {},
   "source": [
    "* brand_name : 많은 Null 값(42%)"
   ]
  },
  {
   "cell_type": "markdown",
   "id": "9a8d4e46",
   "metadata": {},
   "source": [
    "# target 값 확인"
   ]
  },
  {
   "cell_type": "code",
   "execution_count": 14,
   "id": "acc27f32",
   "metadata": {
    "ExecuteTime": {
     "end_time": "2021-09-21T07:35:38.547319Z",
     "start_time": "2021-09-21T07:35:38.525019Z"
    }
   },
   "outputs": [
    {
     "data": {
      "text/plain": [
       "min        0.000000\n",
       "max     2009.000000\n",
       "std       38.586066\n",
       "mean      26.737516\n",
       "Name: price, dtype: float64"
      ]
     },
     "execution_count": 14,
     "metadata": {},
     "output_type": "execute_result"
    }
   ],
   "source": [
    "df.price.aggregate(['min', 'max','std','mean'])"
   ]
  },
  {
   "cell_type": "code",
   "execution_count": 20,
   "id": "01e0da79",
   "metadata": {
    "ExecuteTime": {
     "end_time": "2021-09-21T07:38:54.878993Z",
     "start_time": "2021-09-21T07:38:54.731858Z"
    }
   },
   "outputs": [
    {
     "data": {
      "image/png": "[encoded data removed]",
      "text/plain": [
       "<Figure size 432x288 with 1 Axes>"
      ]
     },
     "metadata": {
      "needs_background": "light"
     },
     "output_type": "display_data"
    }
   ],
   "source": [
    "df.price.hist();"
   ]
  },
  {
   "cell_type": "markdown",
   "id": "c6298865",
   "metadata": {},
   "source": [
    "target 값 자체가 많이 skewed 되어 있으므로, 우선 log1p 변환해서 확인해 보자. "
   ]
  },
  {
   "cell_type": "code",
   "execution_count": 21,
   "id": "d3e2c536",
   "metadata": {
    "ExecuteTime": {
     "end_time": "2021-09-21T07:38:56.325106Z",
     "start_time": "2021-09-21T07:38:55.276950Z"
    }
   },
   "outputs": [],
   "source": [
    "import numpy as np \n",
    "\n",
    "df['price_log'] = df['price'].apply(lambda x : np.log1p(x))"
   ]
  },
  {
   "cell_type": "code",
   "execution_count": 22,
   "id": "316dd943",
   "metadata": {
    "ExecuteTime": {
     "end_time": "2021-09-21T07:38:56.460228Z",
     "start_time": "2021-09-21T07:38:56.326107Z"
    }
   },
   "outputs": [
    {
     "data": {
      "image/png": "[encoded data removed]",
      "text/plain": [
       "<Figure size 432x288 with 1 Axes>"
      ]
     },
     "metadata": {
      "needs_background": "light"
     },
     "output_type": "display_data"
    }
   ],
   "source": [
    "df.price_log.hist();"
   ]
  },
  {
   "cell_type": "markdown",
   "id": "68a61cac",
   "metadata": {},
   "source": [
    "바로 이쁜 정규 분포로 변환 된것을 볼수 있다. 타겟값은 log1p변환으로 사용하기로 한다. "
   ]
  },
  {
   "cell_type": "code",
   "execution_count": 24,
   "id": "32e90a34",
   "metadata": {
    "ExecuteTime": {
     "end_time": "2021-09-21T07:45:57.109298Z",
     "start_time": "2021-09-21T07:45:57.105294Z"
    }
   },
   "outputs": [
    {
     "data": {
      "text/plain": [
       "Index(['train_id', 'name', 'item_condition_id', 'category_name', 'brand_name',\n",
       "       'price', 'shipping', 'item_description', 'price_log'],\n",
       "      dtype='object')"
      ]
     },
     "execution_count": 24,
     "metadata": {},
     "output_type": "execute_result"
    }
   ],
   "source": [
    "df.columns"
   ]
  },
  {
   "cell_type": "markdown",
   "id": "1084b449",
   "metadata": {},
   "source": [
    "# item_condition_id"
   ]
  },
  {
   "cell_type": "code",
   "execution_count": 25,
   "id": "36969f79",
   "metadata": {
    "ExecuteTime": {
     "end_time": "2021-09-21T07:46:21.093578Z",
     "start_time": "2021-09-21T07:46:21.088575Z"
    }
   },
   "outputs": [
    {
     "data": {
      "text/plain": [
       "0          3\n",
       "1          3\n",
       "2          1\n",
       "3          1\n",
       "4          1\n",
       "          ..\n",
       "1482530    2\n",
       "1482531    2\n",
       "1482532    2\n",
       "1482533    3\n",
       "1482534    1\n",
       "Name: item_condition_id, Length: 1482535, dtype: int64"
      ]
     },
     "execution_count": 25,
     "metadata": {},
     "output_type": "execute_result"
    }
   ],
   "source": [
    "df['item_condition_id']"
   ]
  },
  {
   "cell_type": "code",
   "execution_count": 26,
   "id": "f9e47919",
   "metadata": {
    "ExecuteTime": {
     "end_time": "2021-09-21T07:46:35.314838Z",
     "start_time": "2021-09-21T07:46:35.302827Z"
    }
   },
   "outputs": [
    {
     "data": {
      "text/plain": [
       "1    640549\n",
       "3    432161\n",
       "2    375479\n",
       "4     31962\n",
       "5      2384\n",
       "Name: item_condition_id, dtype: int64"
      ]
     },
     "execution_count": 26,
     "metadata": {},
     "output_type": "execute_result"
    }
   ],
   "source": [
    "df['item_condition_id'].value_counts()"
   ]
  },
  {
   "cell_type": "markdown",
   "id": "754135a2",
   "metadata": {},
   "source": [
    "# category_name"
   ]
  },
  {
   "cell_type": "code",
   "execution_count": 27,
   "id": "002f73e1",
   "metadata": {
    "ExecuteTime": {
     "end_time": "2021-09-21T07:47:38.946827Z",
     "start_time": "2021-09-21T07:47:38.942823Z"
    }
   },
   "outputs": [
    {
     "data": {
      "text/plain": [
       "0                                          Men/Tops/T-shirts\n",
       "1          Electronics/Computers & Tablets/Components & P...\n",
       "2                                Women/Tops & Blouses/Blouse\n",
       "3                         Home/Home Décor/Home Décor Accents\n",
       "4                                    Women/Jewelry/Necklaces\n",
       "                                 ...                        \n",
       "1482530                               Women/Dresses/Mid-Calf\n",
       "1482531                             Kids/Girls 2T-5T/Dresses\n",
       "1482532       Sports & Outdoors/Exercise/Fitness accessories\n",
       "1482533                   Home/Home Décor/Home Décor Accents\n",
       "1482534                    Women/Women's Accessories/Wallets\n",
       "Name: category_name, Length: 1482535, dtype: object"
      ]
     },
     "execution_count": 27,
     "metadata": {},
     "output_type": "execute_result"
    }
   ],
   "source": [
    "df['category_name']"
   ]
  },
  {
   "cell_type": "code",
   "execution_count": null,
   "id": "2e23d94a",
   "metadata": {},
   "outputs": [],
   "source": []
  },
  {
   "cell_type": "code",
   "execution_count": 37,
   "id": "6406505c",
   "metadata": {
    "ExecuteTime": {
     "end_time": "2021-09-21T07:53:53.946945Z",
     "start_time": "2021-09-21T07:53:53.934935Z"
    }
   },
   "outputs": [
    {
     "data": {
      "text/plain": [
       "2"
      ]
     },
     "execution_count": 37,
     "metadata": {},
     "output_type": "execute_result"
    }
   ],
   "source": [
    "'Women/Athletic Apparel/Pants, Tights, Leggings'.count('/')"
   ]
  },
  {
   "cell_type": "code",
   "execution_count": 44,
   "id": "6f7bf1a3",
   "metadata": {
    "ExecuteTime": {
     "end_time": "2021-09-21T07:55:16.164795Z",
     "start_time": "2021-09-21T07:55:16.129126Z"
    }
   },
   "outputs": [
    {
     "data": {
      "text/plain": [
       "6327"
      ]
     },
     "execution_count": 44,
     "metadata": {},
     "output_type": "execute_result"
    }
   ],
   "source": [
    "df['category_name'].isnull().sum()"
   ]
  },
  {
   "cell_type": "code",
   "execution_count": 46,
   "id": "db8a514b",
   "metadata": {
    "ExecuteTime": {
     "end_time": "2021-09-21T07:59:32.489207Z",
     "start_time": "2021-09-21T07:59:31.932911Z"
    }
   },
   "outputs": [
    {
     "data": {
      "text/plain": [
       "2    1471819\n",
       "0       6327\n",
       "4       3059\n",
       "3       1330\n",
       "Name: count_cat_name, dtype: int64"
      ]
     },
     "execution_count": 46,
     "metadata": {},
     "output_type": "execute_result"
    }
   ],
   "source": [
    "df['count_cat_name'] = df['category_name'].apply(lambda x : str(x).count('/'))\n",
    "df['count_cat_name'].value_counts()"
   ]
  },
  {
   "cell_type": "code",
   "execution_count": 32,
   "id": "ac4f655b",
   "metadata": {
    "ExecuteTime": {
     "end_time": "2021-09-21T07:50:47.568095Z",
     "start_time": "2021-09-21T07:50:46.971922Z"
    }
   },
   "outputs": [
    {
     "ename": "IndexError",
     "evalue": "list index out of range",
     "output_type": "error",
     "traceback": [
      "\u001b[1;31m------------------------------------------\u001b[0m",
      "\u001b[1;31mIndexError\u001b[0mTraceback (most recent call last)",
      "\u001b[1;32mC:\\Users\\Public\\Documents\\ESTsoft\\CreatorTemp/ipykernel_43436/2388334302.py\u001b[0m in \u001b[0;36m<module>\u001b[1;34m\u001b[0m\n\u001b[0;32m      1\u001b[0m \u001b[0mdf\u001b[0m\u001b[1;33m[\u001b[0m\u001b[1;34m'cat_1'\u001b[0m\u001b[1;33m]\u001b[0m \u001b[1;33m=\u001b[0m \u001b[0mdf\u001b[0m\u001b[1;33m[\u001b[0m\u001b[1;34m'category_name'\u001b[0m\u001b[1;33m]\u001b[0m\u001b[1;33m.\u001b[0m\u001b[0mapply\u001b[0m\u001b[1;33m(\u001b[0m\u001b[1;32mlambda\u001b[0m \u001b[0mx\u001b[0m \u001b[1;33m:\u001b[0m \u001b[0mstr\u001b[0m\u001b[1;33m(\u001b[0m\u001b[0mx\u001b[0m\u001b[1;33m)\u001b[0m\u001b[1;33m.\u001b[0m\u001b[0msplit\u001b[0m\u001b[1;33m(\u001b[0m\u001b[1;34m'/'\u001b[0m\u001b[1;33m)\u001b[0m\u001b[1;33m[\u001b[0m\u001b[1;36m0\u001b[0m\u001b[1;33m]\u001b[0m\u001b[1;33m)\u001b[0m\u001b[1;33m\u001b[0m\u001b[1;33m\u001b[0m\u001b[0m\n\u001b[1;32m----> 2\u001b[1;33m \u001b[0mdf\u001b[0m\u001b[1;33m[\u001b[0m\u001b[1;34m'cat_2'\u001b[0m\u001b[1;33m]\u001b[0m \u001b[1;33m=\u001b[0m \u001b[0mdf\u001b[0m\u001b[1;33m[\u001b[0m\u001b[1;34m'category_name'\u001b[0m\u001b[1;33m]\u001b[0m\u001b[1;33m.\u001b[0m\u001b[0mapply\u001b[0m\u001b[1;33m(\u001b[0m\u001b[1;32mlambda\u001b[0m \u001b[0mx\u001b[0m \u001b[1;33m:\u001b[0m \u001b[0mstr\u001b[0m\u001b[1;33m(\u001b[0m\u001b[0mx\u001b[0m\u001b[1;33m)\u001b[0m\u001b[1;33m.\u001b[0m\u001b[0msplit\u001b[0m\u001b[1;33m(\u001b[0m\u001b[1;34m'/'\u001b[0m\u001b[1;33m)\u001b[0m\u001b[1;33m[\u001b[0m\u001b[1;36m1\u001b[0m\u001b[1;33m]\u001b[0m\u001b[1;33m)\u001b[0m\u001b[1;33m\u001b[0m\u001b[1;33m\u001b[0m\u001b[0m\n\u001b[0m\u001b[0;32m      3\u001b[0m \u001b[0mdf\u001b[0m\u001b[1;33m[\u001b[0m\u001b[1;34m'cat_3'\u001b[0m\u001b[1;33m]\u001b[0m \u001b[1;33m=\u001b[0m \u001b[0mdf\u001b[0m\u001b[1;33m[\u001b[0m\u001b[1;34m'category_name'\u001b[0m\u001b[1;33m]\u001b[0m\u001b[1;33m.\u001b[0m\u001b[0mapply\u001b[0m\u001b[1;33m(\u001b[0m\u001b[1;32mlambda\u001b[0m \u001b[0mx\u001b[0m \u001b[1;33m:\u001b[0m \u001b[0mstr\u001b[0m\u001b[1;33m(\u001b[0m\u001b[0mx\u001b[0m\u001b[1;33m)\u001b[0m\u001b[1;33m.\u001b[0m\u001b[0msplit\u001b[0m\u001b[1;33m(\u001b[0m\u001b[1;34m'/'\u001b[0m\u001b[1;33m)\u001b[0m\u001b[1;33m[\u001b[0m\u001b[1;36m2\u001b[0m\u001b[1;33m]\u001b[0m\u001b[1;33m)\u001b[0m\u001b[1;33m\u001b[0m\u001b[1;33m\u001b[0m\u001b[0m\n",
      "\u001b[1;32m~\\anaconda3\\lib\\site-packages\\pandas\\core\\series.py\u001b[0m in \u001b[0;36mapply\u001b[1;34m(self, func, convert_dtype, args, **kwds)\u001b[0m\n\u001b[0;32m   4198\u001b[0m             \u001b[1;32melse\u001b[0m\u001b[1;33m:\u001b[0m\u001b[1;33m\u001b[0m\u001b[1;33m\u001b[0m\u001b[0m\n\u001b[0;32m   4199\u001b[0m                 \u001b[0mvalues\u001b[0m \u001b[1;33m=\u001b[0m \u001b[0mself\u001b[0m\u001b[1;33m.\u001b[0m\u001b[0mastype\u001b[0m\u001b[1;33m(\u001b[0m\u001b[0mobject\u001b[0m\u001b[1;33m)\u001b[0m\u001b[1;33m.\u001b[0m\u001b[0m_values\u001b[0m\u001b[1;33m\u001b[0m\u001b[1;33m\u001b[0m\u001b[0m\n\u001b[1;32m-> 4200\u001b[1;33m                 \u001b[0mmapped\u001b[0m \u001b[1;33m=\u001b[0m \u001b[0mlib\u001b[0m\u001b[1;33m.\u001b[0m\u001b[0mmap_infer\u001b[0m\u001b[1;33m(\u001b[0m\u001b[0mvalues\u001b[0m\u001b[1;33m,\u001b[0m \u001b[0mf\u001b[0m\u001b[1;33m,\u001b[0m \u001b[0mconvert\u001b[0m\u001b[1;33m=\u001b[0m\u001b[0mconvert_dtype\u001b[0m\u001b[1;33m)\u001b[0m\u001b[1;33m\u001b[0m\u001b[1;33m\u001b[0m\u001b[0m\n\u001b[0m\u001b[0;32m   4201\u001b[0m \u001b[1;33m\u001b[0m\u001b[0m\n\u001b[0;32m   4202\u001b[0m         \u001b[1;32mif\u001b[0m \u001b[0mlen\u001b[0m\u001b[1;33m(\u001b[0m\u001b[0mmapped\u001b[0m\u001b[1;33m)\u001b[0m \u001b[1;32mand\u001b[0m \u001b[0misinstance\u001b[0m\u001b[1;33m(\u001b[0m\u001b[0mmapped\u001b[0m\u001b[1;33m[\u001b[0m\u001b[1;36m0\u001b[0m\u001b[1;33m]\u001b[0m\u001b[1;33m,\u001b[0m \u001b[0mSeries\u001b[0m\u001b[1;33m)\u001b[0m\u001b[1;33m:\u001b[0m\u001b[1;33m\u001b[0m\u001b[1;33m\u001b[0m\u001b[0m\n",
      "\u001b[1;32mpandas\\_libs\\lib.pyx\u001b[0m in \u001b[0;36mpandas._libs.lib.map_infer\u001b[1;34m()\u001b[0m\n",
      "\u001b[1;32mC:\\Users\\Public\\Documents\\ESTsoft\\CreatorTemp/ipykernel_43436/2388334302.py\u001b[0m in \u001b[0;36m<lambda>\u001b[1;34m(x)\u001b[0m\n\u001b[0;32m      1\u001b[0m \u001b[0mdf\u001b[0m\u001b[1;33m[\u001b[0m\u001b[1;34m'cat_1'\u001b[0m\u001b[1;33m]\u001b[0m \u001b[1;33m=\u001b[0m \u001b[0mdf\u001b[0m\u001b[1;33m[\u001b[0m\u001b[1;34m'category_name'\u001b[0m\u001b[1;33m]\u001b[0m\u001b[1;33m.\u001b[0m\u001b[0mapply\u001b[0m\u001b[1;33m(\u001b[0m\u001b[1;32mlambda\u001b[0m \u001b[0mx\u001b[0m \u001b[1;33m:\u001b[0m \u001b[0mstr\u001b[0m\u001b[1;33m(\u001b[0m\u001b[0mx\u001b[0m\u001b[1;33m)\u001b[0m\u001b[1;33m.\u001b[0m\u001b[0msplit\u001b[0m\u001b[1;33m(\u001b[0m\u001b[1;34m'/'\u001b[0m\u001b[1;33m)\u001b[0m\u001b[1;33m[\u001b[0m\u001b[1;36m0\u001b[0m\u001b[1;33m]\u001b[0m\u001b[1;33m)\u001b[0m\u001b[1;33m\u001b[0m\u001b[1;33m\u001b[0m\u001b[0m\n\u001b[1;32m----> 2\u001b[1;33m \u001b[0mdf\u001b[0m\u001b[1;33m[\u001b[0m\u001b[1;34m'cat_2'\u001b[0m\u001b[1;33m]\u001b[0m \u001b[1;33m=\u001b[0m \u001b[0mdf\u001b[0m\u001b[1;33m[\u001b[0m\u001b[1;34m'category_name'\u001b[0m\u001b[1;33m]\u001b[0m\u001b[1;33m.\u001b[0m\u001b[0mapply\u001b[0m\u001b[1;33m(\u001b[0m\u001b[1;32mlambda\u001b[0m \u001b[0mx\u001b[0m \u001b[1;33m:\u001b[0m \u001b[0mstr\u001b[0m\u001b[1;33m(\u001b[0m\u001b[0mx\u001b[0m\u001b[1;33m)\u001b[0m\u001b[1;33m.\u001b[0m\u001b[0msplit\u001b[0m\u001b[1;33m(\u001b[0m\u001b[1;34m'/'\u001b[0m\u001b[1;33m)\u001b[0m\u001b[1;33m[\u001b[0m\u001b[1;36m1\u001b[0m\u001b[1;33m]\u001b[0m\u001b[1;33m)\u001b[0m\u001b[1;33m\u001b[0m\u001b[1;33m\u001b[0m\u001b[0m\n\u001b[0m\u001b[0;32m      3\u001b[0m \u001b[0mdf\u001b[0m\u001b[1;33m[\u001b[0m\u001b[1;34m'cat_3'\u001b[0m\u001b[1;33m]\u001b[0m \u001b[1;33m=\u001b[0m \u001b[0mdf\u001b[0m\u001b[1;33m[\u001b[0m\u001b[1;34m'category_name'\u001b[0m\u001b[1;33m]\u001b[0m\u001b[1;33m.\u001b[0m\u001b[0mapply\u001b[0m\u001b[1;33m(\u001b[0m\u001b[1;32mlambda\u001b[0m \u001b[0mx\u001b[0m \u001b[1;33m:\u001b[0m \u001b[0mstr\u001b[0m\u001b[1;33m(\u001b[0m\u001b[0mx\u001b[0m\u001b[1;33m)\u001b[0m\u001b[1;33m.\u001b[0m\u001b[0msplit\u001b[0m\u001b[1;33m(\u001b[0m\u001b[1;34m'/'\u001b[0m\u001b[1;33m)\u001b[0m\u001b[1;33m[\u001b[0m\u001b[1;36m2\u001b[0m\u001b[1;33m]\u001b[0m\u001b[1;33m)\u001b[0m\u001b[1;33m\u001b[0m\u001b[1;33m\u001b[0m\u001b[0m\n",
      "\u001b[1;31mIndexError\u001b[0m: list index out of range"
     ]
    }
   ],
   "source": [
    "df['cat_1'] = df['category_name'].apply(lambda x : str(x).split('/')[0])"
   ]
  },
  {
   "cell_type": "code",
   "execution_count": 31,
   "id": "bead77ec",
   "metadata": {
    "ExecuteTime": {
     "end_time": "2021-09-21T07:50:04.861247Z",
     "start_time": "2021-09-21T07:50:04.749136Z"
    }
   },
   "outputs": [
    {
     "data": {
      "text/plain": [
       "Women                     664385\n",
       "Beauty                    207828\n",
       "Kids                      171689\n",
       "Electronics               122690\n",
       "Men                        93680\n",
       "Home                       67871\n",
       "Vintage & Collectibles     46530\n",
       "Other                      45351\n",
       "Handmade                   30842\n",
       "Sports & Outdoors          25342\n",
       "nan                         6327\n",
       "Name: cat_1, dtype: int64"
      ]
     },
     "execution_count": 31,
     "metadata": {},
     "output_type": "execute_result"
    }
   ],
   "source": [
    "df['cat_1'].value_counts()"
   ]
  },
  {
   "cell_type": "code",
   "execution_count": 48,
   "id": "0ecaf506",
   "metadata": {
    "ExecuteTime": {
     "end_time": "2021-09-21T08:04:09.141968Z",
     "start_time": "2021-09-21T08:04:04.624604Z"
    }
   },
   "outputs": [],
   "source": [
    "def split_cat(category_name):\n",
    "    try:\n",
    "        return category_name.split('/')\n",
    "    except:\n",
    "        return ['Other_null', 'Other_null', 'Other_Null']\n",
    "    \n",
    "df['cat_dae'], df['cat_jung'], df['cat_so'] = zip(*df['category_name'].apply(lambda x : split_cat(x)))"
   ]
  },
  {
   "cell_type": "code",
   "execution_count": 49,
   "id": "f64dffbd",
   "metadata": {
    "ExecuteTime": {
     "end_time": "2021-09-21T08:04:18.787121Z",
     "start_time": "2021-09-21T08:04:18.613964Z"
    }
   },
   "outputs": [
    {
     "data": {
      "text/plain": [
       "Women                     664385\n",
       "Beauty                    207828\n",
       "Kids                      171689\n",
       "Electronics               122690\n",
       "Men                        93680\n",
       "Home                       67871\n",
       "Vintage & Collectibles     46530\n",
       "Other                      45351\n",
       "Handmade                   30842\n",
       "Sports & Outdoors          25342\n",
       "Other_null                  6327\n",
       "Name: cat_dae, dtype: int64"
      ]
     },
     "execution_count": 49,
     "metadata": {},
     "output_type": "execute_result"
    }
   ],
   "source": [
    "df['cat_dae'].value_counts()"
   ]
  },
  {
   "cell_type": "code",
   "execution_count": 50,
   "id": "979eea6e",
   "metadata": {
    "ExecuteTime": {
     "end_time": "2021-09-21T08:04:25.267580Z",
     "start_time": "2021-09-21T08:04:25.061403Z"
    }
   },
   "outputs": [
    {
     "data": {
      "text/plain": [
       "Athletic Apparel        134383\n",
       "Makeup                  124624\n",
       "Tops & Blouses          106960\n",
       "Shoes                   100452\n",
       "Jewelry                  61763\n",
       "                         ...  \n",
       "Candles                     64\n",
       "Ceramics and Pottery        57\n",
       "Dolls and Miniatures        49\n",
       "Books and Zines             46\n",
       "Quilts                      31\n",
       "Name: cat_jung, Length: 114, dtype: int64"
      ]
     },
     "execution_count": 50,
     "metadata": {},
     "output_type": "execute_result"
    }
   ],
   "source": [
    "df['cat_jung'].value_counts()"
   ]
  },
  {
   "cell_type": "code",
   "execution_count": 51,
   "id": "eeef284c",
   "metadata": {
    "ExecuteTime": {
     "end_time": "2021-09-21T08:04:32.978675Z",
     "start_time": "2021-09-21T08:04:32.759481Z"
    }
   },
   "outputs": [
    {
     "data": {
      "text/plain": [
       "Pants, Tights, Leggings    60177\n",
       "Other                      50224\n",
       "Face                       50171\n",
       "T-Shirts                   46380\n",
       "Shoes                      32168\n",
       "                           ...  \n",
       "Four Button                    1\n",
       "Pad                            1\n",
       "Educational                    1\n",
       "Dishwashers                    1\n",
       "Tiles                          1\n",
       "Name: cat_so, Length: 871, dtype: int64"
      ]
     },
     "execution_count": 51,
     "metadata": {},
     "output_type": "execute_result"
    }
   ],
   "source": [
    "df['cat_so'].value_counts()"
   ]
  },
  {
   "cell_type": "markdown",
   "id": "3e7cf30d",
   "metadata": {},
   "source": [
    "# brad_name"
   ]
  },
  {
   "cell_type": "code",
   "execution_count": 23,
   "id": "2e1b6aa6",
   "metadata": {
    "ExecuteTime": {
     "end_time": "2021-09-21T07:45:36.715829Z",
     "start_time": "2021-09-21T07:45:36.700817Z"
    }
   },
   "outputs": [
    {
     "data": {
      "text/plain": [
       "0                  NaN\n",
       "1                Razer\n",
       "2               Target\n",
       "3                  NaN\n",
       "4                  NaN\n",
       "              ...     \n",
       "1482530    Free People\n",
       "1482531         Disney\n",
       "1482532            NaN\n",
       "1482533            NaN\n",
       "1482534            NaN\n",
       "Name: brand_name, Length: 1482535, dtype: object"
      ]
     },
     "execution_count": 23,
     "metadata": {},
     "output_type": "execute_result"
    }
   ],
   "source": [
    "df['brand_name']"
   ]
  },
  {
   "cell_type": "markdown",
   "id": "c8205c85",
   "metadata": {},
   "source": [
    "# item_description"
   ]
  },
  {
   "cell_type": "code",
   "execution_count": 52,
   "id": "796f61a4",
   "metadata": {
    "ExecuteTime": {
     "end_time": "2021-09-21T08:06:13.222516Z",
     "start_time": "2021-09-21T08:06:13.212960Z"
    },
    "scrolled": true
   },
   "outputs": [
    {
     "data": {
      "text/plain": [
       "0                                         No description yet\n",
       "1          This keyboard is in great condition and works ...\n",
       "2          Adorable top with a hint of lace and a key hol...\n",
       "3          New with tags. Leather horses. Retail for [rm]...\n",
       "4                  Complete with certificate of authenticity\n",
       "                                 ...                        \n",
       "1482530    Lace, says size small but fits medium perfectl...\n",
       "1482531     Little mermaid handmade dress never worn size 2t\n",
       "1482532            Used once or twice, still in great shape.\n",
       "1482533    There is 2 of each one that you see! So 2 red ...\n",
       "1482534    New with tag, red with sparkle. Firm price, no...\n",
       "Name: item_description, Length: 1482535, dtype: object"
      ]
     },
     "execution_count": 52,
     "metadata": {},
     "output_type": "execute_result"
    }
   ],
   "source": [
    "df['item_description']"
   ]
  },
  {
   "cell_type": "code",
   "execution_count": 54,
   "id": "3cd42572",
   "metadata": {
    "ExecuteTime": {
     "end_time": "2021-09-21T08:07:09.371417Z",
     "start_time": "2021-09-21T08:07:09.269324Z"
    },
    "scrolled": true
   },
   "outputs": [
    {
     "data": {
      "text/plain": [
       "82489"
      ]
     },
     "execution_count": 54,
     "metadata": {},
     "output_type": "execute_result"
    }
   ],
   "source": [
    "(df['item_description'] == 'No description yet').sum()"
   ]
  },
  {
   "cell_type": "markdown",
   "id": "579d3e94",
   "metadata": {},
   "source": [
    "# name"
   ]
  },
  {
   "cell_type": "code",
   "execution_count": 56,
   "id": "f9a02875",
   "metadata": {
    "ExecuteTime": {
     "end_time": "2021-09-21T08:07:53.748004Z",
     "start_time": "2021-09-21T08:07:53.733992Z"
    }
   },
   "outputs": [
    {
     "data": {
      "text/plain": [
       "0            MLB Cincinnati Reds T Shirt Size XL\n",
       "1               Razer BlackWidow Chroma Keyboard\n",
       "2                                 AVA-VIV Blouse\n",
       "3                          Leather Horse Statues\n",
       "4                           24K GOLD plated rose\n",
       "                           ...                  \n",
       "1482530               Free People Inspired Dress\n",
       "1482531            Little mermaid handmade dress\n",
       "1482532    21 day fix containers and eating plan\n",
       "1482533                   World markets lanterns\n",
       "1482534            Brand new lux de ville wallet\n",
       "Name: name, Length: 1482535, dtype: object"
      ]
     },
     "execution_count": 56,
     "metadata": {},
     "output_type": "execute_result"
    }
   ],
   "source": [
    "df['name']"
   ]
  },
  {
   "cell_type": "code",
   "execution_count": 57,
   "id": "f37aac22",
   "metadata": {
    "ExecuteTime": {
     "end_time": "2021-09-21T08:08:06.919614Z",
     "start_time": "2021-09-21T08:08:06.110874Z"
    }
   },
   "outputs": [
    {
     "data": {
      "text/plain": [
       "Bundle                                 2232\n",
       "Reserved                                453\n",
       "Converse                                445\n",
       "BUNDLE                                  418\n",
       "Dress                                   410\n",
       "                                       ... \n",
       "XL Draped V-neck tee                      1\n",
       "*NEW* Gameboy Advance SP/DS charger       1\n",
       "MusclePharm Arnold Series Tee Shirt       1\n",
       "NWT NIKE LAB Training Pants XL            1\n",
       "Black VANS size 6.5                       1\n",
       "Name: name, Length: 1225273, dtype: int64"
      ]
     },
     "execution_count": 57,
     "metadata": {},
     "output_type": "execute_result"
    }
   ],
   "source": [
    "df['name'].value_counts()"
   ]
  },
  {
   "cell_type": "markdown",
   "id": "23191f40",
   "metadata": {},
   "source": [
    "**Reference**\n",
    "\n",
    "* <a href='https://github.com/SeWonKwon' ><div> <img src ='https://slid-capture.s3.ap-northeast-2.amazonaws.com/public/image_upload/6556674324ed41a289a354258718280d/964e5a8b-75ad-41fc-ae75-0ca66d06fbc7.png' align='left' /> </div></a>\n",
    "\n",
    "<br>\n",
    "\n",
    "* 파이썬 머신러닝 완벽 가이드, 권철민\n"
   ]
  }
 ],
 "metadata": {
  "kernelspec": {
   "display_name": "Python 3 (ipykernel)",
   "language": "python",
   "name": "python3"
  },
  "language_info": {
   "codemirror_mode": {
    "name": "ipython",
    "version": 3
   },
   "file_extension": ".py",
   "mimetype": "text/x-python",
   "name": "python",
   "nbconvert_exporter": "python",
   "pygments_lexer": "ipython3",
   "version": "3.8.11"
  },
  "toc": {
   "base_numbering": 1,
   "nav_menu": {},
   "number_sections": true,
   "sideBar": true,
   "skip_h1_title": false,
   "title_cell": "Table of Contents",
   "title_sidebar": "Contents",
   "toc_cell": false,
   "toc_position": {},
   "toc_section_display": true,
   "toc_window_display": false
  }
 },
 "nbformat": 4,
 "nbformat_minor": 5
}
