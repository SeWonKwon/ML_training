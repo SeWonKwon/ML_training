{
 "cells": [
  {
   "cell_type": "markdown",
   "metadata": {},
   "source": [
    "<a href='https://github.com/SeWonKwon' ><div> <img src ='https://slid-capture.s3.ap-northeast-2.amazonaws.com/public/image_upload/6556674324ed41a289a354258718280d/964e5a8b-75ad-41fc-ae75-0ca66d06fbc7.png' align='left' /> </div></a>\n"
   ]
  },
  {
   "cell_type": "markdown",
   "metadata": {},
   "source": [
    "# CreditCard Furad 실습"
   ]
  },
  {
   "cell_type": "code",
   "execution_count": 10,
   "metadata": {
    "ExecuteTime": {
     "end_time": "2021-07-23T10:39:19.401273Z",
     "start_time": "2021-07-23T10:39:19.384267Z"
    }
   },
   "outputs": [],
   "source": [
    "import warnings\n",
    "warnings.filterwarnings('ignore')"
   ]
  },
  {
   "cell_type": "markdown",
   "metadata": {},
   "source": [
    "df로 환원"
   ]
  },
  {
   "cell_type": "code",
   "execution_count": 1,
   "metadata": {
    "ExecuteTime": {
     "end_time": "2021-07-23T10:37:59.728225Z",
     "start_time": "2021-07-23T10:37:49.396391Z"
    }
   },
   "outputs": [
    {
     "name": "stderr",
     "output_type": "stream",
     "text": [
      "Downloading...\n",
      "From: https://drive.google.com/uc?id=1TwKDZ24Gp76MhZFP4kRee2uAJYtYZLve\n",
      "To: C:\\Users\\N\\OneDrive\\WorkJ\\Machine Learning\\Machine_Learning\\creditcard.csv\n",
      "151MB [00:04, 33.1MB/s] \n"
     ]
    }
   ],
   "source": [
    "import gdown\n",
    "import os\n",
    "import pandas as pd\n",
    "from sklearn.model_selection import train_test_split\n",
    "# https://drive.google.com/file/d/1TwKDZ24Gp76MhZFP4kRee2uAJYtYZLve/view?usp=sharing\n",
    "def get_creditcard_dataset():\n",
    "\n",
    "    google_path = 'https://drive.google.com/uc?id='\n",
    "    file_id_train = '1TwKDZ24Gp76MhZFP4kRee2uAJYtYZLve'\n",
    "\n",
    "    gdown.download(google_path+file_id_train,'creditcard.csv',quiet=False)\n",
    "   \n",
    "    \n",
    "    X = pd.read_csv('creditcard.csv')\n",
    "    y = X.iloc[:,[-1]]\n",
    "    X = X.iloc[:,:-1]\n",
    "    \n",
    "    os.remove('creditcard.csv')\n",
    "\n",
    "    \n",
    "    return X, y\n",
    "\n",
    "X, y = get_creditcard_dataset()"
   ]
  },
  {
   "cell_type": "code",
   "execution_count": 2,
   "metadata": {
    "ExecuteTime": {
     "end_time": "2021-07-23T10:37:59.743229Z",
     "start_time": "2021-07-23T10:37:59.731227Z"
    }
   },
   "outputs": [],
   "source": [
    "from sklearn.metrics import confusion_matrix, accuracy_score, precision_score, recall_score, roc_auc_score\n",
    "from sklearn.metrics import f1_score\n",
    "\n",
    "def plot_conf_mat(conf_mat):\n",
    "    import matplotlib.pyplot as plt\n",
    "    \n",
    "    fig, ax = plt.subplots(figsize=(2.5, 2.5))\n",
    "    ax.matshow(conf_mat, cmap=plt.cm.Blues, alpha=0.3)\n",
    "    for i in range(conf_mat.shape[0]):\n",
    "        for j in range(conf_mat.shape[1]):\n",
    "            ax.text(x=j, y=i, s=conf_mat[i, j], va='center', ha='center',fontsize=19)\n",
    "    \n",
    "    plt.xlabel('Predicted label')\n",
    "    plt.ylabel('True label')\n",
    "    plt.tight_layout()\n",
    "    plt.show()\n",
    "\n",
    "def get_clf_eval(y_test, pred=None, pred_proba=None):\n",
    "    confusion = confusion_matrix(y_test, pred)\n",
    "    accuracy = accuracy_score(y_test, pred)\n",
    "    precision = precision_score(y_test, pred)\n",
    "    recall = recall_score(y_test, pred)\n",
    "    f1 = f1_score(y_test, pred)\n",
    "    roc_auc = roc_auc_score(y_test, pred_proba)\n",
    "#     print('오차 행렬')\n",
    "#     plot_conf_mat(confusion)\n",
    "#     print('정확도:{0:.4f}, 정밀도:{1:.4f}, 재현율:{2:.4f}, F1_score:{3:.4f},\\\n",
    "#             AUC: {4:.4f}'.format(accuracy, precision, recall, f1, roc_auc))\n",
    "    \n",
    "    return accuracy, precision, recall, f1, roc_auc"
   ]
  },
  {
   "cell_type": "code",
   "execution_count": 3,
   "metadata": {
    "ExecuteTime": {
     "end_time": "2021-07-23T10:37:59.758232Z",
     "start_time": "2021-07-23T10:37:59.749231Z"
    }
   },
   "outputs": [],
   "source": [
    "def get_model_train_eval(model, X_train, y_train, X_test, y_test):\n",
    "    model.fit(X_train, y_train)\n",
    "    pred = model.predict(X_test)\n",
    "    pred_proba = model.predict_proba(X_test)[:, 1]\n",
    "    \n",
    "    model_name = str(type(model)).split('.')[-1][:-2]\n",
    "    accuracy, precision, recall, f1, roc_auc = get_clf_eval(y_test, pred, pred_proba)\n",
    "    \n",
    "    return model_name, accuracy, precision, recall, f1, roc_auc"
   ]
  },
  {
   "cell_type": "code",
   "execution_count": 4,
   "metadata": {
    "ExecuteTime": {
     "end_time": "2021-07-23T10:38:00.433402Z",
     "start_time": "2021-07-23T10:37:59.760233Z"
    }
   },
   "outputs": [],
   "source": [
    "from sklearn.linear_model import LogisticRegression\n",
    "from lightgbm import LGBMClassifier\n",
    "\n",
    "lr_clf = LogisticRegression()\n",
    "lgbm_model= LGBMClassifier(n_estimators=1000, num_leaves=64, n_jobs=-1, boost_from_average=False)"
   ]
  },
  {
   "cell_type": "code",
   "execution_count": 5,
   "metadata": {
    "ExecuteTime": {
     "end_time": "2021-07-23T10:38:00.448394Z",
     "start_time": "2021-07-23T10:38:00.435391Z"
    }
   },
   "outputs": [],
   "source": [
    "def get_train_test_dataset(df_X=None, df_y=None, scaler=None, test_size=0.3, random_state=0):\n",
    "    df_copy = get_preprocessed_df(df_X, scaler)\n",
    "    X_train, X_test, y_train, y_test = train_test_split(df_copy, df_y, test_size=test_size, \n",
    "                                            random_state=random_state, stratify = df_y)\n",
    "    \n",
    "    return X_train, X_test, y_train, y_test\n",
    "    \n"
   ]
  },
  {
   "cell_type": "code",
   "execution_count": 6,
   "metadata": {
    "ExecuteTime": {
     "end_time": "2021-07-23T10:38:00.463409Z",
     "start_time": "2021-07-23T10:38:00.450394Z"
    }
   },
   "outputs": [],
   "source": [
    "from sklearn.preprocessing import StandardScaler, MinMaxScaler, MaxAbsScaler, RobustScaler\n",
    "import numpy as np\n",
    "\n",
    "scalers = [StandardScaler(), MinMaxScaler(), MaxAbsScaler(), RobustScaler(), 'log1p']\n",
    "\n",
    "def get_preprocessed_df(df, scaler):\n",
    "    df_copy = df.copy()\n",
    "    if scaler=='log1p':\n",
    "        df_copy['Amount_S'] = np.log1p(df_copy['Amount'].values.reshape(-1, 1))\n",
    "    else:\n",
    "        df_copy['Amount_S'] = scaler.fit_transform(df_copy['Amount'].values.reshape(-1, 1))\n",
    "    \n",
    "    df_copy.drop(['Time', 'Amount'], axis=1, inplace=True)\n",
    "    \n",
    "    return df_copy"
   ]
  },
  {
   "cell_type": "code",
   "execution_count": 7,
   "metadata": {
    "ExecuteTime": {
     "end_time": "2021-07-23T10:39:07.956118Z",
     "start_time": "2021-07-23T10:38:00.465399Z"
    },
    "scrolled": true
   },
   "outputs": [
    {
     "name": "stderr",
     "output_type": "stream",
     "text": [
      "C:\\Users\\N\\Anaconda3\\lib\\site-packages\\sklearn\\utils\\validation.py:72: DataConversionWarning: A column-vector y was passed when a 1d array was expected. Please change the shape of y to (n_samples, ), for example using ravel().\n",
      "  return f(**kwargs)\n",
      "C:\\Users\\N\\Anaconda3\\lib\\site-packages\\sklearn\\utils\\validation.py:72: DataConversionWarning: A column-vector y was passed when a 1d array was expected. Please change the shape of y to (n_samples, ), for example using ravel().\n",
      "  return f(**kwargs)\n",
      "C:\\Users\\N\\Anaconda3\\lib\\site-packages\\sklearn\\utils\\validation.py:72: DataConversionWarning: A column-vector y was passed when a 1d array was expected. Please change the shape of y to (n_samples, ), for example using ravel().\n",
      "  return f(**kwargs)\n",
      "C:\\Users\\N\\Anaconda3\\lib\\site-packages\\sklearn\\linear_model\\_logistic.py:762: ConvergenceWarning: lbfgs failed to converge (status=1):\n",
      "STOP: TOTAL NO. of ITERATIONS REACHED LIMIT.\n",
      "\n",
      "Increase the number of iterations (max_iter) or scale the data as shown in:\n",
      "    https://scikit-learn.org/stable/modules/preprocessing.html\n",
      "Please also refer to the documentation for alternative solver options:\n",
      "    https://scikit-learn.org/stable/modules/linear_model.html#logistic-regression\n",
      "  n_iter_i = _check_optimize_result(\n",
      "C:\\Users\\N\\Anaconda3\\lib\\site-packages\\sklearn\\utils\\validation.py:72: DataConversionWarning: A column-vector y was passed when a 1d array was expected. Please change the shape of y to (n_samples, ), for example using ravel().\n",
      "  return f(**kwargs)\n",
      "C:\\Users\\N\\Anaconda3\\lib\\site-packages\\sklearn\\utils\\validation.py:72: DataConversionWarning: A column-vector y was passed when a 1d array was expected. Please change the shape of y to (n_samples, ), for example using ravel().\n",
      "  return f(**kwargs)\n",
      "C:\\Users\\N\\Anaconda3\\lib\\site-packages\\sklearn\\linear_model\\_logistic.py:762: ConvergenceWarning: lbfgs failed to converge (status=1):\n",
      "STOP: TOTAL NO. of ITERATIONS REACHED LIMIT.\n",
      "\n",
      "Increase the number of iterations (max_iter) or scale the data as shown in:\n",
      "    https://scikit-learn.org/stable/modules/preprocessing.html\n",
      "Please also refer to the documentation for alternative solver options:\n",
      "    https://scikit-learn.org/stable/modules/linear_model.html#logistic-regression\n",
      "  n_iter_i = _check_optimize_result(\n",
      "C:\\Users\\N\\Anaconda3\\lib\\site-packages\\sklearn\\utils\\validation.py:72: DataConversionWarning: A column-vector y was passed when a 1d array was expected. Please change the shape of y to (n_samples, ), for example using ravel().\n",
      "  return f(**kwargs)\n",
      "C:\\Users\\N\\Anaconda3\\lib\\site-packages\\sklearn\\utils\\validation.py:72: DataConversionWarning: A column-vector y was passed when a 1d array was expected. Please change the shape of y to (n_samples, ), for example using ravel().\n",
      "  return f(**kwargs)\n",
      "C:\\Users\\N\\Anaconda3\\lib\\site-packages\\sklearn\\utils\\validation.py:72: DataConversionWarning: A column-vector y was passed when a 1d array was expected. Please change the shape of y to (n_samples, ), for example using ravel().\n",
      "  return f(**kwargs)\n",
      "C:\\Users\\N\\Anaconda3\\lib\\site-packages\\sklearn\\utils\\validation.py:72: DataConversionWarning: A column-vector y was passed when a 1d array was expected. Please change the shape of y to (n_samples, ), for example using ravel().\n",
      "  return f(**kwargs)\n",
      "C:\\Users\\N\\Anaconda3\\lib\\site-packages\\sklearn\\utils\\validation.py:72: DataConversionWarning: A column-vector y was passed when a 1d array was expected. Please change the shape of y to (n_samples, ), for example using ravel().\n",
      "  return f(**kwargs)\n"
     ]
    }
   ],
   "source": [
    "result_df = pd.DataFrame(columns=['name', 'accuracy', 'precision', 'recall', 'f1', 'roc_auc'])\n",
    "idx=0\n",
    "for scaler in scalers:\n",
    "    \n",
    "    X_train, X_test, y_train, y_test = get_train_test_dataset(X, y,  scaler)\n",
    "    if scaler == 'log1p':\n",
    "        scaler_name= 'log1p'\n",
    "    else:\n",
    "        scaler_name = str(type(scaler)).split('.')[-1][:-2][:-len('Scaler')]\n",
    "        \n",
    "    model_name, accuracy, precision, recall, f1, roc_auc = get_model_train_eval(lr_clf, X_train, y_train, X_test, y_test)\n",
    "    result_df.loc[idx] = str(model_name + scaler_name), accuracy, precision, recall, f1, roc_auc\n",
    "    idx +=1\n",
    "    \n",
    "    model_name, accuracy, precision, recall, f1, roc_auc = get_model_train_eval(lgbm_model, X_train, y_train, X_test, y_test)\n",
    "    result_df.loc[idx] = str(model_name + scaler_name), accuracy, precision, recall, f1, roc_auc\n",
    "    idx +=1"
   ]
  },
  {
   "cell_type": "code",
   "execution_count": 8,
   "metadata": {
    "ExecuteTime": {
     "end_time": "2021-07-23T10:39:07.986141Z",
     "start_time": "2021-07-23T10:39:07.958128Z"
    }
   },
   "outputs": [
    {
     "data": {
      "text/html": [
       "<div>\n",
       "<style scoped>\n",
       "    .dataframe tbody tr th:only-of-type {\n",
       "        vertical-align: middle;\n",
       "    }\n",
       "\n",
       "    .dataframe tbody tr th {\n",
       "        vertical-align: top;\n",
       "    }\n",
       "\n",
       "    .dataframe thead th {\n",
       "        text-align: right;\n",
       "    }\n",
       "</style>\n",
       "<table border=\"1\" class=\"dataframe\">\n",
       "  <thead>\n",
       "    <tr style=\"text-align: right;\">\n",
       "      <th></th>\n",
       "      <th>name</th>\n",
       "      <th>accuracy</th>\n",
       "      <th>precision</th>\n",
       "      <th>recall</th>\n",
       "      <th>f1</th>\n",
       "      <th>roc_auc</th>\n",
       "    </tr>\n",
       "  </thead>\n",
       "  <tbody>\n",
       "    <tr>\n",
       "      <th>0</th>\n",
       "      <td>LogisticRegressionStandard</td>\n",
       "      <td>0.999157</td>\n",
       "      <td>0.865385</td>\n",
       "      <td>0.608108</td>\n",
       "      <td>0.714286</td>\n",
       "      <td>0.970227</td>\n",
       "    </tr>\n",
       "    <tr>\n",
       "      <th>1</th>\n",
       "      <td>LGBMClassifierStandard</td>\n",
       "      <td>0.999532</td>\n",
       "      <td>0.965517</td>\n",
       "      <td>0.756757</td>\n",
       "      <td>0.848485</td>\n",
       "      <td>0.978225</td>\n",
       "    </tr>\n",
       "    <tr>\n",
       "      <th>2</th>\n",
       "      <td>LogisticRegressionMinMax</td>\n",
       "      <td>0.999181</td>\n",
       "      <td>0.882353</td>\n",
       "      <td>0.608108</td>\n",
       "      <td>0.720000</td>\n",
       "      <td>0.971258</td>\n",
       "    </tr>\n",
       "    <tr>\n",
       "      <th>3</th>\n",
       "      <td>LGBMClassifierMinMax</td>\n",
       "      <td>0.999520</td>\n",
       "      <td>0.957265</td>\n",
       "      <td>0.756757</td>\n",
       "      <td>0.845283</td>\n",
       "      <td>0.979034</td>\n",
       "    </tr>\n",
       "    <tr>\n",
       "      <th>4</th>\n",
       "      <td>LogisticRegressionMaxAbs</td>\n",
       "      <td>0.999181</td>\n",
       "      <td>0.882353</td>\n",
       "      <td>0.608108</td>\n",
       "      <td>0.720000</td>\n",
       "      <td>0.971258</td>\n",
       "    </tr>\n",
       "    <tr>\n",
       "      <th>5</th>\n",
       "      <td>LGBMClassifierMaxAbs</td>\n",
       "      <td>0.999520</td>\n",
       "      <td>0.957265</td>\n",
       "      <td>0.756757</td>\n",
       "      <td>0.845283</td>\n",
       "      <td>0.979034</td>\n",
       "    </tr>\n",
       "    <tr>\n",
       "      <th>6</th>\n",
       "      <td>LogisticRegressionRobust</td>\n",
       "      <td>0.999157</td>\n",
       "      <td>0.865385</td>\n",
       "      <td>0.608108</td>\n",
       "      <td>0.714286</td>\n",
       "      <td>0.970216</td>\n",
       "    </tr>\n",
       "    <tr>\n",
       "      <th>7</th>\n",
       "      <td>LGBMClassifierRobust</td>\n",
       "      <td>0.999520</td>\n",
       "      <td>0.957265</td>\n",
       "      <td>0.756757</td>\n",
       "      <td>0.845283</td>\n",
       "      <td>0.979108</td>\n",
       "    </tr>\n",
       "    <tr>\n",
       "      <th>8</th>\n",
       "      <td>LogisticRegressionlog1p</td>\n",
       "      <td>0.999169</td>\n",
       "      <td>0.881188</td>\n",
       "      <td>0.601351</td>\n",
       "      <td>0.714859</td>\n",
       "      <td>0.972683</td>\n",
       "    </tr>\n",
       "    <tr>\n",
       "      <th>9</th>\n",
       "      <td>LGBMClassifierlog1p</td>\n",
       "      <td>0.999520</td>\n",
       "      <td>0.957265</td>\n",
       "      <td>0.756757</td>\n",
       "      <td>0.845283</td>\n",
       "      <td>0.979034</td>\n",
       "    </tr>\n",
       "  </tbody>\n",
       "</table>\n",
       "</div>"
      ],
      "text/plain": [
       "                         name  accuracy  precision    recall        f1  \\\n",
       "0  LogisticRegressionStandard  0.999157   0.865385  0.608108  0.714286   \n",
       "1      LGBMClassifierStandard  0.999532   0.965517  0.756757  0.848485   \n",
       "2    LogisticRegressionMinMax  0.999181   0.882353  0.608108  0.720000   \n",
       "3        LGBMClassifierMinMax  0.999520   0.957265  0.756757  0.845283   \n",
       "4    LogisticRegressionMaxAbs  0.999181   0.882353  0.608108  0.720000   \n",
       "5        LGBMClassifierMaxAbs  0.999520   0.957265  0.756757  0.845283   \n",
       "6    LogisticRegressionRobust  0.999157   0.865385  0.608108  0.714286   \n",
       "7        LGBMClassifierRobust  0.999520   0.957265  0.756757  0.845283   \n",
       "8     LogisticRegressionlog1p  0.999169   0.881188  0.601351  0.714859   \n",
       "9         LGBMClassifierlog1p  0.999520   0.957265  0.756757  0.845283   \n",
       "\n",
       "    roc_auc  \n",
       "0  0.970227  \n",
       "1  0.978225  \n",
       "2  0.971258  \n",
       "3  0.979034  \n",
       "4  0.971258  \n",
       "5  0.979034  \n",
       "6  0.970216  \n",
       "7  0.979108  \n",
       "8  0.972683  \n",
       "9  0.979034  "
      ]
     },
     "execution_count": 8,
     "metadata": {},
     "output_type": "execute_result"
    }
   ],
   "source": [
    "result_df"
   ]
  },
  {
   "cell_type": "code",
   "execution_count": 9,
   "metadata": {
    "ExecuteTime": {
     "end_time": "2021-07-23T10:39:08.016148Z",
     "start_time": "2021-07-23T10:39:07.989136Z"
    }
   },
   "outputs": [
    {
     "data": {
      "text/html": [
       "<div>\n",
       "<style scoped>\n",
       "    .dataframe tbody tr th:only-of-type {\n",
       "        vertical-align: middle;\n",
       "    }\n",
       "\n",
       "    .dataframe tbody tr th {\n",
       "        vertical-align: top;\n",
       "    }\n",
       "\n",
       "    .dataframe thead th {\n",
       "        text-align: right;\n",
       "    }\n",
       "</style>\n",
       "<table border=\"1\" class=\"dataframe\">\n",
       "  <thead>\n",
       "    <tr style=\"text-align: right;\">\n",
       "      <th></th>\n",
       "      <th>name</th>\n",
       "      <th>accuracy</th>\n",
       "      <th>precision</th>\n",
       "      <th>recall</th>\n",
       "      <th>f1</th>\n",
       "      <th>roc_auc</th>\n",
       "    </tr>\n",
       "  </thead>\n",
       "  <tbody>\n",
       "    <tr>\n",
       "      <th>7</th>\n",
       "      <td>LGBMClassifierRobust</td>\n",
       "      <td>0.999520</td>\n",
       "      <td>0.957265</td>\n",
       "      <td>0.756757</td>\n",
       "      <td>0.845283</td>\n",
       "      <td>0.979108</td>\n",
       "    </tr>\n",
       "    <tr>\n",
       "      <th>3</th>\n",
       "      <td>LGBMClassifierMinMax</td>\n",
       "      <td>0.999520</td>\n",
       "      <td>0.957265</td>\n",
       "      <td>0.756757</td>\n",
       "      <td>0.845283</td>\n",
       "      <td>0.979034</td>\n",
       "    </tr>\n",
       "    <tr>\n",
       "      <th>5</th>\n",
       "      <td>LGBMClassifierMaxAbs</td>\n",
       "      <td>0.999520</td>\n",
       "      <td>0.957265</td>\n",
       "      <td>0.756757</td>\n",
       "      <td>0.845283</td>\n",
       "      <td>0.979034</td>\n",
       "    </tr>\n",
       "    <tr>\n",
       "      <th>9</th>\n",
       "      <td>LGBMClassifierlog1p</td>\n",
       "      <td>0.999520</td>\n",
       "      <td>0.957265</td>\n",
       "      <td>0.756757</td>\n",
       "      <td>0.845283</td>\n",
       "      <td>0.979034</td>\n",
       "    </tr>\n",
       "    <tr>\n",
       "      <th>1</th>\n",
       "      <td>LGBMClassifierStandard</td>\n",
       "      <td>0.999532</td>\n",
       "      <td>0.965517</td>\n",
       "      <td>0.756757</td>\n",
       "      <td>0.848485</td>\n",
       "      <td>0.978225</td>\n",
       "    </tr>\n",
       "    <tr>\n",
       "      <th>8</th>\n",
       "      <td>LogisticRegressionlog1p</td>\n",
       "      <td>0.999169</td>\n",
       "      <td>0.881188</td>\n",
       "      <td>0.601351</td>\n",
       "      <td>0.714859</td>\n",
       "      <td>0.972683</td>\n",
       "    </tr>\n",
       "    <tr>\n",
       "      <th>2</th>\n",
       "      <td>LogisticRegressionMinMax</td>\n",
       "      <td>0.999181</td>\n",
       "      <td>0.882353</td>\n",
       "      <td>0.608108</td>\n",
       "      <td>0.720000</td>\n",
       "      <td>0.971258</td>\n",
       "    </tr>\n",
       "    <tr>\n",
       "      <th>4</th>\n",
       "      <td>LogisticRegressionMaxAbs</td>\n",
       "      <td>0.999181</td>\n",
       "      <td>0.882353</td>\n",
       "      <td>0.608108</td>\n",
       "      <td>0.720000</td>\n",
       "      <td>0.971258</td>\n",
       "    </tr>\n",
       "    <tr>\n",
       "      <th>0</th>\n",
       "      <td>LogisticRegressionStandard</td>\n",
       "      <td>0.999157</td>\n",
       "      <td>0.865385</td>\n",
       "      <td>0.608108</td>\n",
       "      <td>0.714286</td>\n",
       "      <td>0.970227</td>\n",
       "    </tr>\n",
       "    <tr>\n",
       "      <th>6</th>\n",
       "      <td>LogisticRegressionRobust</td>\n",
       "      <td>0.999157</td>\n",
       "      <td>0.865385</td>\n",
       "      <td>0.608108</td>\n",
       "      <td>0.714286</td>\n",
       "      <td>0.970216</td>\n",
       "    </tr>\n",
       "  </tbody>\n",
       "</table>\n",
       "</div>"
      ],
      "text/plain": [
       "                         name  accuracy  precision    recall        f1  \\\n",
       "7        LGBMClassifierRobust  0.999520   0.957265  0.756757  0.845283   \n",
       "3        LGBMClassifierMinMax  0.999520   0.957265  0.756757  0.845283   \n",
       "5        LGBMClassifierMaxAbs  0.999520   0.957265  0.756757  0.845283   \n",
       "9         LGBMClassifierlog1p  0.999520   0.957265  0.756757  0.845283   \n",
       "1      LGBMClassifierStandard  0.999532   0.965517  0.756757  0.848485   \n",
       "8     LogisticRegressionlog1p  0.999169   0.881188  0.601351  0.714859   \n",
       "2    LogisticRegressionMinMax  0.999181   0.882353  0.608108  0.720000   \n",
       "4    LogisticRegressionMaxAbs  0.999181   0.882353  0.608108  0.720000   \n",
       "0  LogisticRegressionStandard  0.999157   0.865385  0.608108  0.714286   \n",
       "6    LogisticRegressionRobust  0.999157   0.865385  0.608108  0.714286   \n",
       "\n",
       "    roc_auc  \n",
       "7  0.979108  \n",
       "3  0.979034  \n",
       "5  0.979034  \n",
       "9  0.979034  \n",
       "1  0.978225  \n",
       "8  0.972683  \n",
       "2  0.971258  \n",
       "4  0.971258  \n",
       "0  0.970227  \n",
       "6  0.970216  "
      ]
     },
     "execution_count": 9,
     "metadata": {},
     "output_type": "execute_result"
    }
   ],
   "source": [
    "result_df.sort_values(['roc_auc','f1'], ascending=False)"
   ]
  },
  {
   "cell_type": "markdown",
   "metadata": {},
   "source": [
    "# 출처:\n",
    "\n",
    "* <a href='https://github.com/SeWonKwon' ><div> <img src ='https://slid-capture.s3.ap-northeast-2.amazonaws.com/public/image_upload/6556674324ed41a289a354258718280d/964e5a8b-75ad-41fc-ae75-0ca66d06fbc7.png' align='left' /> </div></a>\n",
    "\n",
    "<br>\n"
   ]
  }
 ],
 "metadata": {
  "kernelspec": {
   "display_name": "Python 3",
   "language": "python",
   "name": "python3"
  },
  "language_info": {
   "codemirror_mode": {
    "name": "ipython",
    "version": 3
   },
   "file_extension": ".py",
   "mimetype": "text/x-python",
   "name": "python",
   "nbconvert_exporter": "python",
   "pygments_lexer": "ipython3",
   "version": "3.8.5"
  },
  "toc": {
   "base_numbering": 1,
   "nav_menu": {},
   "number_sections": true,
   "sideBar": true,
   "skip_h1_title": false,
   "title_cell": "Table of Contents",
   "title_sidebar": "Contents",
   "toc_cell": false,
   "toc_position": {
    "height": "calc(100% - 180px)",
    "left": "10px",
    "top": "150px",
    "width": "334.901px"
   },
   "toc_section_display": true,
   "toc_window_display": true
  }
 },
 "nbformat": 4,
 "nbformat_minor": 4
}
