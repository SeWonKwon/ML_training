{
 "cells": [
  {
   "cell_type": "markdown",
   "metadata": {},
   "source": [
    "https://www.kaggle.com/c/santander-customer-satisfaction/data"
   ]
  },
  {
   "cell_type": "code",
   "execution_count": 7,
   "metadata": {
    "ExecuteTime": {
     "end_time": "2021-07-21T06:59:03.656621Z",
     "start_time": "2021-07-21T06:58:48.023216Z"
    }
   },
   "outputs": [
    {
     "name": "stderr",
     "output_type": "stream",
     "text": [
      "Downloading...\n",
      "From: https://drive.google.com/uc?id=1oxHidcYjhx6HzOYMZ-l493nuz2AHpjz-\n",
      "To: C:\\Users\\N\\OneDrive\\WorkJ\\Machine Learning\\Kaggle\\Santander Customer Satisfaction\\santan_train.csv\n",
      "59.4MB [00:03, 17.0MB/s]\n",
      "Downloading...\n",
      "From: https://drive.google.com/uc?id=1rlN0N9wVQIKL1HMWvrH5I8y9jrqzZUpu\n",
      "To: C:\\Users\\N\\OneDrive\\WorkJ\\Machine Learning\\Kaggle\\Santander Customer Satisfaction\\santan_test.csv\n",
      "59.1MB [00:03, 15.9MB/s]\n"
     ]
    }
   ],
   "source": [
    "import gdown\n",
    "import os\n",
    "import pandas as pd\n",
    "from sklearn.model_selection import train_test_split\n",
    "\n",
    "def get_santan_dataset():\n",
    "# https://drive.google.com/file/d/1oxHidcYjhx6HzOYMZ-l493nuz2AHpjz-/view?usp=sharing\n",
    "#     https://drive.google.com/file/d/1rlN0N9wVQIKL1HMWvrH5I8y9jrqzZUpu/view?usp=sharing\n",
    "    google_path = 'https://drive.google.com/uc?id='\n",
    "    file_id_train = '1oxHidcYjhx6HzOYMZ-l493nuz2AHpjz-'\n",
    "    file_id_test = '1rlN0N9wVQIKL1HMWvrH5I8y9jrqzZUpu'\n",
    "\n",
    "    gdown.download(google_path+file_id_train,'santan_train.csv',quiet=False)\n",
    "    gdown.download(google_path+file_id_test,'santan_test.csv',quiet=False)\n",
    "    \n",
    "    X = pd.read_csv('santan_train.csv')\n",
    "    X_sub = pd.read_csv('santan_test.csv')\n",
    "    y = X.iloc[:,[-1]]\n",
    "    X = X.iloc[:,:-1]\n",
    "    \n",
    "\n",
    "    \n",
    "    os.remove('santan_train.csv')\n",
    "    os.remove('santan_test.csv')\n",
    "    \n",
    "    return X, y, X_sub\n",
    "\n",
    "X, y, X_sub = get_santan_dataset()"
   ]
  },
  {
   "cell_type": "markdown",
   "metadata": {},
   "source": [
    "자료 분류\n",
    "\n",
    "* bianary classification"
   ]
  },
  {
   "cell_type": "markdown",
   "metadata": {},
   "source": [
    "data가 익명 처리되어서, feature 특성이 무엇인지는 알수가 없다."
   ]
  },
  {
   "cell_type": "markdown",
   "metadata": {},
   "source": [
    "평가 기준\n",
    "\n",
    "* area under the ROC curve "
   ]
  }
 ],
 "metadata": {
  "kernelspec": {
   "display_name": "Python 3",
   "language": "python",
   "name": "python3"
  },
  "language_info": {
   "codemirror_mode": {
    "name": "ipython",
    "version": 3
   },
   "file_extension": ".py",
   "mimetype": "text/x-python",
   "name": "python",
   "nbconvert_exporter": "python",
   "pygments_lexer": "ipython3",
   "version": "3.8.5"
  },
  "toc": {
   "base_numbering": 1,
   "nav_menu": {},
   "number_sections": true,
   "sideBar": true,
   "skip_h1_title": false,
   "title_cell": "Table of Contents",
   "title_sidebar": "Contents",
   "toc_cell": false,
   "toc_position": {},
   "toc_section_display": true,
   "toc_window_display": false
  }
 },
 "nbformat": 4,
 "nbformat_minor": 4
}
